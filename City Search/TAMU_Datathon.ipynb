{
 "cells": [
  {
   "cell_type": "code",
   "execution_count": 31,
   "metadata": {},
   "outputs": [],
   "source": [
    "import pandas as pd\n",
    "import seaborn as sb\n",
    "import numpy \n",
    "\n",
    "from sklearn.tree import DecisionTreeRegressor\n",
    "from sklearn.metrics import mean_absolute_error\n",
    "from sklearn.model_selection import train_test_split\n",
    "from sklearn.ensemble import RandomForestRegressor\n"
   ]
  },
  {
   "cell_type": "code",
   "execution_count": 2,
   "metadata": {},
   "outputs": [],
   "source": [
    "#reading in csv files that we will use\n",
    "multi_df = pd.read_csv('Multi_Value_Numbeo.csv') \n",
    "quality_df = pd.read_csv('Quality_of_Life_Numbeo.csv')\n",
    "property_df = pd.read_csv('Property_Prices_Numbeo.csv')"
   ]
  },
  {
   "cell_type": "code",
   "execution_count": 3,
   "metadata": {},
   "outputs": [
    {
     "name": "stdout",
     "output_type": "stream",
     "text": [
      "Rank                            0\n",
      "City                            0\n",
      "Cost of Living Index            0\n",
      "Rent Index                      0\n",
      "Cost of Living Plus Rent        0\n",
      "Groceries Index                 0\n",
      "Resaurant Price Index           0\n",
      "Local Purchasing Power Index    0\n",
      "dtype: int64\n",
      "-----------------------------------\n",
      "Rank                              0\n",
      "City                              0\n",
      "Quality of Life Index             0\n",
      "Purchasing Power Index            0\n",
      "Safety Index                      0\n",
      "Health Care Index                 0\n",
      "Cost of Living Index              0\n",
      "Property Price to Income Ratio    0\n",
      "Traffic Commute Time Index        0\n",
      "Pollution Index                   0\n",
      "Climate Index                     0\n",
      "dtype: int64\n",
      "-----------------------------------\n",
      "Rank                                          0\n",
      "City                                          0\n",
      "Price To Income Ratio                         0\n",
      "Gross Rental Yield City Centre                0\n",
      "Gross Rental Yield Outside of Centre          0\n",
      "Price To Rent Ratio City Centre               0\n",
      "Price To Rent Ratio Outside Of City Centre    0\n",
      "Mortgage As A Percentage Of Income            0\n",
      "Affordability Index                           0\n",
      "dtype: int64\n"
     ]
    }
   ],
   "source": [
    "#Checking to see if there are any null - empty values in dataset\n",
    "print(multi_df.isnull().sum())\n",
    "print(\"-----------------------------------\")\n",
    "print(quality_df.isnull().sum())\n",
    "print(\"-----------------------------------\")\n",
    "print(property_df.isnull().sum())"
   ]
  },
  {
   "cell_type": "code",
   "execution_count": 4,
   "metadata": {},
   "outputs": [
    {
     "name": "stdout",
     "output_type": "stream",
     "text": [
      "Multi_df 573\n",
      "Quality_df 250\n",
      "Property_df 480\n"
     ]
    }
   ],
   "source": [
    "#checking to see how many rows are in the df\n",
    "print(\"Multi_df\",multi_df.shape[0])\n",
    "print(\"Quality_df\",quality_df.shape[0])\n",
    "print(\"Property_df\",property_df.shape[0])"
   ]
  },
  {
   "cell_type": "markdown",
   "metadata": {},
   "source": [
    "if 'Adelaide, Australia' not in multi_df.City:\n",
    "    print(\"yes\")"
   ]
  },
  {
   "cell_type": "code",
   "execution_count": 5,
   "metadata": {},
   "outputs": [],
   "source": [
    "multi_df = multi_df.drop(\"Rank\",axis=1)\n",
    "quality_df = quality_df.drop(\"Rank\",axis=1)\n",
    "property_df = property_df.drop(\"Rank\",axis=1)"
   ]
  },
  {
   "cell_type": "code",
   "execution_count": 6,
   "metadata": {},
   "outputs": [],
   "source": [
    "df = pd.merge(multi_df, property_df, on='City')"
   ]
  },
  {
   "cell_type": "code",
   "execution_count": 7,
   "metadata": {},
   "outputs": [
    {
     "data": {
      "text/plain": [
       "440"
      ]
     },
     "execution_count": 7,
     "metadata": {},
     "output_type": "execute_result"
    }
   ],
   "source": [
    "df.shape[0]"
   ]
  },
  {
   "cell_type": "code",
   "execution_count": 8,
   "metadata": {},
   "outputs": [],
   "source": [
    "df_withLife = pd.merge(df, quality_df, how='inner',on='City')"
   ]
  },
  {
   "cell_type": "code",
   "execution_count": 9,
   "metadata": {},
   "outputs": [
    {
     "data": {
      "text/plain": [
       "241"
      ]
     },
     "execution_count": 9,
     "metadata": {},
     "output_type": "execute_result"
    }
   ],
   "source": [
    "df_withLife.shape[0]"
   ]
  },
  {
   "cell_type": "code",
   "execution_count": 10,
   "metadata": {},
   "outputs": [
    {
     "data": {
      "text/html": [
       "<div>\n",
       "<style scoped>\n",
       "    .dataframe tbody tr th:only-of-type {\n",
       "        vertical-align: middle;\n",
       "    }\n",
       "\n",
       "    .dataframe tbody tr th {\n",
       "        vertical-align: top;\n",
       "    }\n",
       "\n",
       "    .dataframe thead th {\n",
       "        text-align: right;\n",
       "    }\n",
       "</style>\n",
       "<table border=\"1\" class=\"dataframe\">\n",
       "  <thead>\n",
       "    <tr style=\"text-align: right;\">\n",
       "      <th></th>\n",
       "      <th>City</th>\n",
       "      <th>Cost of Living Index_x</th>\n",
       "      <th>Rent Index</th>\n",
       "      <th>Cost of Living Plus Rent</th>\n",
       "      <th>Groceries Index</th>\n",
       "      <th>Resaurant Price Index</th>\n",
       "      <th>Local Purchasing Power Index</th>\n",
       "      <th>Price To Income Ratio</th>\n",
       "      <th>Gross Rental Yield City Centre</th>\n",
       "      <th>Gross Rental Yield Outside of Centre</th>\n",
       "      <th>...</th>\n",
       "      <th>Affordability Index</th>\n",
       "      <th>Quality of Life Index</th>\n",
       "      <th>Purchasing Power Index</th>\n",
       "      <th>Safety Index</th>\n",
       "      <th>Health Care Index</th>\n",
       "      <th>Cost of Living Index_y</th>\n",
       "      <th>Property Price to Income Ratio</th>\n",
       "      <th>Traffic Commute Time Index</th>\n",
       "      <th>Pollution Index</th>\n",
       "      <th>Climate Index</th>\n",
       "    </tr>\n",
       "  </thead>\n",
       "  <tbody>\n",
       "    <tr>\n",
       "      <td>0</td>\n",
       "      <td>Zurich, Switzerland</td>\n",
       "      <td>132.00</td>\n",
       "      <td>65.85</td>\n",
       "      <td>100.30</td>\n",
       "      <td>133.03</td>\n",
       "      <td>120.68</td>\n",
       "      <td>123.01</td>\n",
       "      <td>8.10</td>\n",
       "      <td>3.29</td>\n",
       "      <td>3.80</td>\n",
       "      <td>...</td>\n",
       "      <td>2.18</td>\n",
       "      <td>199.53</td>\n",
       "      <td>123.01</td>\n",
       "      <td>83.87</td>\n",
       "      <td>75.94</td>\n",
       "      <td>132.00</td>\n",
       "      <td>8.10</td>\n",
       "      <td>33.53</td>\n",
       "      <td>16.63</td>\n",
       "      <td>81.48</td>\n",
       "    </tr>\n",
       "    <tr>\n",
       "      <td>1</td>\n",
       "      <td>Geneva, Switzerland</td>\n",
       "      <td>128.14</td>\n",
       "      <td>66.41</td>\n",
       "      <td>98.56</td>\n",
       "      <td>127.77</td>\n",
       "      <td>119.58</td>\n",
       "      <td>114.18</td>\n",
       "      <td>9.25</td>\n",
       "      <td>3.23</td>\n",
       "      <td>3.55</td>\n",
       "      <td>...</td>\n",
       "      <td>1.83</td>\n",
       "      <td>186.60</td>\n",
       "      <td>114.18</td>\n",
       "      <td>72.59</td>\n",
       "      <td>73.08</td>\n",
       "      <td>128.14</td>\n",
       "      <td>9.25</td>\n",
       "      <td>25.49</td>\n",
       "      <td>25.99</td>\n",
       "      <td>82.61</td>\n",
       "    </tr>\n",
       "    <tr>\n",
       "      <td>2</td>\n",
       "      <td>New York, NY, United States</td>\n",
       "      <td>100.00</td>\n",
       "      <td>100.00</td>\n",
       "      <td>100.00</td>\n",
       "      <td>100.00</td>\n",
       "      <td>100.00</td>\n",
       "      <td>100.00</td>\n",
       "      <td>10.39</td>\n",
       "      <td>4.85</td>\n",
       "      <td>5.43</td>\n",
       "      <td>...</td>\n",
       "      <td>1.34</td>\n",
       "      <td>136.75</td>\n",
       "      <td>100.00</td>\n",
       "      <td>53.84</td>\n",
       "      <td>61.59</td>\n",
       "      <td>100.00</td>\n",
       "      <td>10.39</td>\n",
       "      <td>43.13</td>\n",
       "      <td>59.11</td>\n",
       "      <td>79.66</td>\n",
       "    </tr>\n",
       "    <tr>\n",
       "      <td>3</td>\n",
       "      <td>Oslo, Norway</td>\n",
       "      <td>95.41</td>\n",
       "      <td>40.20</td>\n",
       "      <td>68.95</td>\n",
       "      <td>90.14</td>\n",
       "      <td>94.37</td>\n",
       "      <td>87.20</td>\n",
       "      <td>10.92</td>\n",
       "      <td>3.13</td>\n",
       "      <td>3.59</td>\n",
       "      <td>...</td>\n",
       "      <td>1.39</td>\n",
       "      <td>164.11</td>\n",
       "      <td>87.20</td>\n",
       "      <td>64.16</td>\n",
       "      <td>75.26</td>\n",
       "      <td>95.41</td>\n",
       "      <td>10.92</td>\n",
       "      <td>31.92</td>\n",
       "      <td>24.79</td>\n",
       "      <td>59.99</td>\n",
       "    </tr>\n",
       "    <tr>\n",
       "      <td>4</td>\n",
       "      <td>Honolulu, HI, United States</td>\n",
       "      <td>95.08</td>\n",
       "      <td>63.69</td>\n",
       "      <td>80.04</td>\n",
       "      <td>101.17</td>\n",
       "      <td>79.75</td>\n",
       "      <td>75.98</td>\n",
       "      <td>9.35</td>\n",
       "      <td>5.42</td>\n",
       "      <td>6.53</td>\n",
       "      <td>...</td>\n",
       "      <td>1.46</td>\n",
       "      <td>154.85</td>\n",
       "      <td>75.98</td>\n",
       "      <td>55.43</td>\n",
       "      <td>72.42</td>\n",
       "      <td>95.08</td>\n",
       "      <td>9.35</td>\n",
       "      <td>41.19</td>\n",
       "      <td>36.82</td>\n",
       "      <td>95.33</td>\n",
       "    </tr>\n",
       "  </tbody>\n",
       "</table>\n",
       "<p>5 rows × 23 columns</p>\n",
       "</div>"
      ],
      "text/plain": [
       "                          City  Cost of Living Index_x  Rent Index  \\\n",
       "0          Zurich, Switzerland                  132.00       65.85   \n",
       "1          Geneva, Switzerland                  128.14       66.41   \n",
       "2  New York, NY, United States                  100.00      100.00   \n",
       "3                 Oslo, Norway                   95.41       40.20   \n",
       "4  Honolulu, HI, United States                   95.08       63.69   \n",
       "\n",
       "   Cost of Living Plus Rent  Groceries Index  Resaurant Price Index  \\\n",
       "0                    100.30           133.03                 120.68   \n",
       "1                     98.56           127.77                 119.58   \n",
       "2                    100.00           100.00                 100.00   \n",
       "3                     68.95            90.14                  94.37   \n",
       "4                     80.04           101.17                  79.75   \n",
       "\n",
       "   Local Purchasing Power Index  Price To Income Ratio  \\\n",
       "0                        123.01                   8.10   \n",
       "1                        114.18                   9.25   \n",
       "2                        100.00                  10.39   \n",
       "3                         87.20                  10.92   \n",
       "4                         75.98                   9.35   \n",
       "\n",
       "   Gross Rental Yield City Centre  Gross Rental Yield Outside of Centre  ...  \\\n",
       "0                            3.29                                  3.80  ...   \n",
       "1                            3.23                                  3.55  ...   \n",
       "2                            4.85                                  5.43  ...   \n",
       "3                            3.13                                  3.59  ...   \n",
       "4                            5.42                                  6.53  ...   \n",
       "\n",
       "   Affordability Index  Quality of Life Index  Purchasing Power Index  \\\n",
       "0                 2.18                 199.53                  123.01   \n",
       "1                 1.83                 186.60                  114.18   \n",
       "2                 1.34                 136.75                  100.00   \n",
       "3                 1.39                 164.11                   87.20   \n",
       "4                 1.46                 154.85                   75.98   \n",
       "\n",
       "   Safety Index  Health Care Index  Cost of Living Index_y  \\\n",
       "0         83.87              75.94                  132.00   \n",
       "1         72.59              73.08                  128.14   \n",
       "2         53.84              61.59                  100.00   \n",
       "3         64.16              75.26                   95.41   \n",
       "4         55.43              72.42                   95.08   \n",
       "\n",
       "   Property Price to Income Ratio  Traffic Commute Time Index  \\\n",
       "0                            8.10                       33.53   \n",
       "1                            9.25                       25.49   \n",
       "2                           10.39                       43.13   \n",
       "3                           10.92                       31.92   \n",
       "4                            9.35                       41.19   \n",
       "\n",
       "   Pollution Index  Climate Index  \n",
       "0            16.63          81.48  \n",
       "1            25.99          82.61  \n",
       "2            59.11          79.66  \n",
       "3            24.79          59.99  \n",
       "4            36.82          95.33  \n",
       "\n",
       "[5 rows x 23 columns]"
      ]
     },
     "execution_count": 10,
     "metadata": {},
     "output_type": "execute_result"
    }
   ],
   "source": [
    "df_withLife.head()"
   ]
  },
  {
   "cell_type": "code",
   "execution_count": 11,
   "metadata": {},
   "outputs": [
    {
     "data": {
      "text/plain": [
       "Index(['City', 'Cost of Living Index_x', 'Rent Index',\n",
       "       'Cost of Living Plus Rent', 'Groceries Index', 'Resaurant Price Index',\n",
       "       'Local Purchasing Power Index', 'Price To Income Ratio',\n",
       "       'Gross Rental Yield City Centre',\n",
       "       'Gross Rental Yield Outside of Centre',\n",
       "       'Price To Rent Ratio City Centre',\n",
       "       'Price To Rent Ratio Outside Of City Centre',\n",
       "       'Mortgage As A Percentage Of Income', 'Affordability Index',\n",
       "       'Quality of Life Index', 'Purchasing Power Index', 'Safety Index',\n",
       "       'Health Care Index', 'Cost of Living Index_y',\n",
       "       'Property Price to Income Ratio', 'Traffic Commute Time Index',\n",
       "       'Pollution Index', 'Climate Index'],\n",
       "      dtype='object')"
      ]
     },
     "execution_count": 11,
     "metadata": {},
     "output_type": "execute_result"
    }
   ],
   "source": [
    "df_withLife.columns"
   ]
  },
  {
   "cell_type": "code",
   "execution_count": 12,
   "metadata": {
    "scrolled": false
   },
   "outputs": [
    {
     "data": {
      "text/plain": [
       "City                                           object\n",
       "Cost of Living Index_x                        float64\n",
       "Rent Index                                    float64\n",
       "Cost of Living Plus Rent                      float64\n",
       "Groceries Index                               float64\n",
       "Resaurant Price Index                         float64\n",
       "Local Purchasing Power Index                  float64\n",
       "Price To Income Ratio                         float64\n",
       "Gross Rental Yield City Centre                float64\n",
       "Gross Rental Yield Outside of Centre          float64\n",
       "Price To Rent Ratio City Centre               float64\n",
       "Price To Rent Ratio Outside Of City Centre    float64\n",
       "Mortgage As A Percentage Of Income            float64\n",
       "Affordability Index                           float64\n",
       "Quality of Life Index                         float64\n",
       "Purchasing Power Index                        float64\n",
       "Safety Index                                  float64\n",
       "Health Care Index                             float64\n",
       "Cost of Living Index_y                        float64\n",
       "Property Price to Income Ratio                float64\n",
       "Traffic Commute Time Index                    float64\n",
       "Pollution Index                               float64\n",
       "Climate Index                                 float64\n",
       "dtype: object"
      ]
     },
     "execution_count": 12,
     "metadata": {},
     "output_type": "execute_result"
    }
   ],
   "source": [
    "df_withLife.dtypes"
   ]
  },
  {
   "cell_type": "code",
   "execution_count": 13,
   "metadata": {},
   "outputs": [],
   "source": [
    "#encode city column values and give them actual int values \n",
    "df_withLife[\"City\"] = df_withLife[\"City\"].astype('category')\n",
    "df_withLife[\"City_Codes\"] = df_withLife[\"City\"].cat.codes\n",
    "\n"
   ]
  },
  {
   "cell_type": "code",
   "execution_count": 14,
   "metadata": {
    "scrolled": true
   },
   "outputs": [
    {
     "data": {
      "text/plain": [
       "City                                          category\n",
       "Cost of Living Index_x                         float64\n",
       "Rent Index                                     float64\n",
       "Cost of Living Plus Rent                       float64\n",
       "Groceries Index                                float64\n",
       "Resaurant Price Index                          float64\n",
       "Local Purchasing Power Index                   float64\n",
       "Price To Income Ratio                          float64\n",
       "Gross Rental Yield City Centre                 float64\n",
       "Gross Rental Yield Outside of Centre           float64\n",
       "Price To Rent Ratio City Centre                float64\n",
       "Price To Rent Ratio Outside Of City Centre     float64\n",
       "Mortgage As A Percentage Of Income             float64\n",
       "Affordability Index                            float64\n",
       "Quality of Life Index                          float64\n",
       "Purchasing Power Index                         float64\n",
       "Safety Index                                   float64\n",
       "Health Care Index                              float64\n",
       "Cost of Living Index_y                         float64\n",
       "Property Price to Income Ratio                 float64\n",
       "Traffic Commute Time Index                     float64\n",
       "Pollution Index                                float64\n",
       "Climate Index                                  float64\n",
       "City_Codes                                       int16\n",
       "dtype: object"
      ]
     },
     "execution_count": 14,
     "metadata": {},
     "output_type": "execute_result"
    }
   ],
   "source": [
    "df_withLife.dtypes"
   ]
  },
  {
   "cell_type": "code",
   "execution_count": 15,
   "metadata": {},
   "outputs": [],
   "source": [
    "#basic first model\n",
    "\n",
    "#selecting the prediction target \n",
    "y = df_withLife.City_Codes\n",
    "\n",
    "#choosing features to use (selecting a few as of right now)\n",
    "features = ['Quality of Life Index','Purchasing Power Index','Safety Index','Health Care Index','Cost of Living Index_y','Pollution Index']"
   ]
  },
  {
   "cell_type": "code",
   "execution_count": null,
   "metadata": {},
   "outputs": [],
   "source": []
  },
  {
   "cell_type": "code",
   "execution_count": 16,
   "metadata": {},
   "outputs": [],
   "source": [
    "X = df_withLife[features]"
   ]
  },
  {
   "cell_type": "code",
   "execution_count": 17,
   "metadata": {},
   "outputs": [
    {
     "data": {
      "text/html": [
       "<div>\n",
       "<style scoped>\n",
       "    .dataframe tbody tr th:only-of-type {\n",
       "        vertical-align: middle;\n",
       "    }\n",
       "\n",
       "    .dataframe tbody tr th {\n",
       "        vertical-align: top;\n",
       "    }\n",
       "\n",
       "    .dataframe thead th {\n",
       "        text-align: right;\n",
       "    }\n",
       "</style>\n",
       "<table border=\"1\" class=\"dataframe\">\n",
       "  <thead>\n",
       "    <tr style=\"text-align: right;\">\n",
       "      <th></th>\n",
       "      <th>Quality of Life Index</th>\n",
       "      <th>Purchasing Power Index</th>\n",
       "      <th>Safety Index</th>\n",
       "      <th>Health Care Index</th>\n",
       "      <th>Cost of Living Index_y</th>\n",
       "      <th>Pollution Index</th>\n",
       "    </tr>\n",
       "  </thead>\n",
       "  <tbody>\n",
       "    <tr>\n",
       "      <td>count</td>\n",
       "      <td>241.000000</td>\n",
       "      <td>241.000000</td>\n",
       "      <td>241.000000</td>\n",
       "      <td>241.000000</td>\n",
       "      <td>241.000000</td>\n",
       "      <td>241.000000</td>\n",
       "    </tr>\n",
       "    <tr>\n",
       "      <td>mean</td>\n",
       "      <td>139.976929</td>\n",
       "      <td>70.935062</td>\n",
       "      <td>56.564938</td>\n",
       "      <td>66.608174</td>\n",
       "      <td>57.517801</td>\n",
       "      <td>51.101328</td>\n",
       "    </tr>\n",
       "    <tr>\n",
       "      <td>std</td>\n",
       "      <td>35.544522</td>\n",
       "      <td>32.767029</td>\n",
       "      <td>14.991353</td>\n",
       "      <td>10.020906</td>\n",
       "      <td>21.365555</td>\n",
       "      <td>21.259635</td>\n",
       "    </tr>\n",
       "    <tr>\n",
       "      <td>min</td>\n",
       "      <td>45.520000</td>\n",
       "      <td>10.750000</td>\n",
       "      <td>17.860000</td>\n",
       "      <td>40.520000</td>\n",
       "      <td>20.460000</td>\n",
       "      <td>12.870000</td>\n",
       "    </tr>\n",
       "    <tr>\n",
       "      <td>25%</td>\n",
       "      <td>111.850000</td>\n",
       "      <td>42.070000</td>\n",
       "      <td>46.660000</td>\n",
       "      <td>59.630000</td>\n",
       "      <td>37.730000</td>\n",
       "      <td>33.120000</td>\n",
       "    </tr>\n",
       "    <tr>\n",
       "      <td>50%</td>\n",
       "      <td>143.750000</td>\n",
       "      <td>66.890000</td>\n",
       "      <td>56.750000</td>\n",
       "      <td>67.340000</td>\n",
       "      <td>63.190000</td>\n",
       "      <td>50.220000</td>\n",
       "    </tr>\n",
       "    <tr>\n",
       "      <td>75%</td>\n",
       "      <td>169.810000</td>\n",
       "      <td>96.730000</td>\n",
       "      <td>68.130000</td>\n",
       "      <td>74.390000</td>\n",
       "      <td>74.410000</td>\n",
       "      <td>67.450000</td>\n",
       "    </tr>\n",
       "    <tr>\n",
       "      <td>max</td>\n",
       "      <td>206.410000</td>\n",
       "      <td>158.980000</td>\n",
       "      <td>88.560000</td>\n",
       "      <td>87.170000</td>\n",
       "      <td>132.000000</td>\n",
       "      <td>95.920000</td>\n",
       "    </tr>\n",
       "  </tbody>\n",
       "</table>\n",
       "</div>"
      ],
      "text/plain": [
       "       Quality of Life Index  Purchasing Power Index  Safety Index  \\\n",
       "count             241.000000              241.000000    241.000000   \n",
       "mean              139.976929               70.935062     56.564938   \n",
       "std                35.544522               32.767029     14.991353   \n",
       "min                45.520000               10.750000     17.860000   \n",
       "25%               111.850000               42.070000     46.660000   \n",
       "50%               143.750000               66.890000     56.750000   \n",
       "75%               169.810000               96.730000     68.130000   \n",
       "max               206.410000              158.980000     88.560000   \n",
       "\n",
       "       Health Care Index  Cost of Living Index_y  Pollution Index  \n",
       "count         241.000000              241.000000       241.000000  \n",
       "mean           66.608174               57.517801        51.101328  \n",
       "std            10.020906               21.365555        21.259635  \n",
       "min            40.520000               20.460000        12.870000  \n",
       "25%            59.630000               37.730000        33.120000  \n",
       "50%            67.340000               63.190000        50.220000  \n",
       "75%            74.390000               74.410000        67.450000  \n",
       "max            87.170000              132.000000        95.920000  "
      ]
     },
     "execution_count": 17,
     "metadata": {},
     "output_type": "execute_result"
    }
   ],
   "source": [
    "X.describe()"
   ]
  },
  {
   "cell_type": "code",
   "execution_count": 18,
   "metadata": {},
   "outputs": [],
   "source": [
    "#instantiating model specified with random_state = 1 to ensure same results each run\n",
    "df_model = DecisionTreeRegressor(random_state=1)\n"
   ]
  },
  {
   "cell_type": "code",
   "execution_count": 19,
   "metadata": {},
   "outputs": [
    {
     "data": {
      "text/plain": [
       "DecisionTreeRegressor(criterion='mse', max_depth=None, max_features=None,\n",
       "                      max_leaf_nodes=None, min_impurity_decrease=0.0,\n",
       "                      min_impurity_split=None, min_samples_leaf=1,\n",
       "                      min_samples_split=2, min_weight_fraction_leaf=0.0,\n",
       "                      presort=False, random_state=1, splitter='best')"
      ]
     },
     "execution_count": 19,
     "metadata": {},
     "output_type": "execute_result"
    }
   ],
   "source": [
    "#Fit model\n",
    "df_model.fit(X,y)"
   ]
  },
  {
   "cell_type": "code",
   "execution_count": 20,
   "metadata": {},
   "outputs": [
    {
     "name": "stdout",
     "output_type": "stream",
     "text": [
      "   Quality of Life Index  Purchasing Power Index  Safety Index  \\\n",
      "0                 199.53                  123.01         83.87   \n",
      "1                 186.60                  114.18         72.59   \n",
      "2                 136.75                  100.00         53.84   \n",
      "3                 164.11                   87.20         64.16   \n",
      "4                 154.85                   75.98         55.43   \n",
      "\n",
      "   Health Care Index  Cost of Living Index_y  Pollution Index  \n",
      "0              75.94                  132.00            16.63  \n",
      "1              73.08                  128.14            25.99  \n",
      "2              61.59                  100.00            59.11  \n",
      "3              75.26                   95.41            24.79  \n",
      "4              72.42                   95.08            36.82  \n"
     ]
    }
   ],
   "source": [
    "print(X.head())"
   ]
  },
  {
   "cell_type": "code",
   "execution_count": 21,
   "metadata": {},
   "outputs": [
    {
     "name": "stdout",
     "output_type": "stream",
     "text": [
      "Predictions are [240.  76. 149. 159.  89.]\n"
     ]
    }
   ],
   "source": [
    "print(\"Predictions are\", df_model.predict(X.head()))"
   ]
  },
  {
   "cell_type": "code",
   "execution_count": 22,
   "metadata": {},
   "outputs": [
    {
     "data": {
      "text/html": [
       "<div>\n",
       "<style scoped>\n",
       "    .dataframe tbody tr th:only-of-type {\n",
       "        vertical-align: middle;\n",
       "    }\n",
       "\n",
       "    .dataframe tbody tr th {\n",
       "        vertical-align: top;\n",
       "    }\n",
       "\n",
       "    .dataframe thead th {\n",
       "        text-align: right;\n",
       "    }\n",
       "</style>\n",
       "<table border=\"1\" class=\"dataframe\">\n",
       "  <thead>\n",
       "    <tr style=\"text-align: right;\">\n",
       "      <th></th>\n",
       "      <th>City</th>\n",
       "      <th>Cost of Living Index_x</th>\n",
       "      <th>Rent Index</th>\n",
       "      <th>Cost of Living Plus Rent</th>\n",
       "      <th>Groceries Index</th>\n",
       "      <th>Resaurant Price Index</th>\n",
       "      <th>Local Purchasing Power Index</th>\n",
       "      <th>Price To Income Ratio</th>\n",
       "      <th>Gross Rental Yield City Centre</th>\n",
       "      <th>Gross Rental Yield Outside of Centre</th>\n",
       "      <th>...</th>\n",
       "      <th>Quality of Life Index</th>\n",
       "      <th>Purchasing Power Index</th>\n",
       "      <th>Safety Index</th>\n",
       "      <th>Health Care Index</th>\n",
       "      <th>Cost of Living Index_y</th>\n",
       "      <th>Property Price to Income Ratio</th>\n",
       "      <th>Traffic Commute Time Index</th>\n",
       "      <th>Pollution Index</th>\n",
       "      <th>Climate Index</th>\n",
       "      <th>City_Codes</th>\n",
       "    </tr>\n",
       "  </thead>\n",
       "  <tbody>\n",
       "    <tr>\n",
       "      <td>0</td>\n",
       "      <td>Zurich, Switzerland</td>\n",
       "      <td>132.0</td>\n",
       "      <td>65.85</td>\n",
       "      <td>100.3</td>\n",
       "      <td>133.03</td>\n",
       "      <td>120.68</td>\n",
       "      <td>123.01</td>\n",
       "      <td>8.1</td>\n",
       "      <td>3.29</td>\n",
       "      <td>3.8</td>\n",
       "      <td>...</td>\n",
       "      <td>199.53</td>\n",
       "      <td>123.01</td>\n",
       "      <td>83.87</td>\n",
       "      <td>75.94</td>\n",
       "      <td>132.0</td>\n",
       "      <td>8.1</td>\n",
       "      <td>33.53</td>\n",
       "      <td>16.63</td>\n",
       "      <td>81.48</td>\n",
       "      <td>240</td>\n",
       "    </tr>\n",
       "  </tbody>\n",
       "</table>\n",
       "<p>1 rows × 24 columns</p>\n",
       "</div>"
      ],
      "text/plain": [
       "                  City  Cost of Living Index_x  Rent Index  \\\n",
       "0  Zurich, Switzerland                   132.0       65.85   \n",
       "\n",
       "   Cost of Living Plus Rent  Groceries Index  Resaurant Price Index  \\\n",
       "0                     100.3           133.03                 120.68   \n",
       "\n",
       "   Local Purchasing Power Index  Price To Income Ratio  \\\n",
       "0                        123.01                    8.1   \n",
       "\n",
       "   Gross Rental Yield City Centre  Gross Rental Yield Outside of Centre  ...  \\\n",
       "0                            3.29                                   3.8  ...   \n",
       "\n",
       "   Quality of Life Index  Purchasing Power Index  Safety Index  \\\n",
       "0                 199.53                  123.01         83.87   \n",
       "\n",
       "   Health Care Index  Cost of Living Index_y  Property Price to Income Ratio  \\\n",
       "0              75.94                   132.0                             8.1   \n",
       "\n",
       "   Traffic Commute Time Index  Pollution Index  Climate Index  City_Codes  \n",
       "0                       33.53            16.63          81.48         240  \n",
       "\n",
       "[1 rows x 24 columns]"
      ]
     },
     "execution_count": 22,
     "metadata": {},
     "output_type": "execute_result"
    }
   ],
   "source": [
    "df_withLife.loc[df_withLife['City_Codes'] == 240]"
   ]
  },
  {
   "cell_type": "code",
   "execution_count": 23,
   "metadata": {},
   "outputs": [
    {
     "data": {
      "text/plain": [
       "0.0"
      ]
     },
     "execution_count": 23,
     "metadata": {},
     "output_type": "execute_result"
    }
   ],
   "source": [
    "#validating prediction print MAE \n",
    "predicted_city = df_model.predict(X)\n",
    "mean_absolute_error(y, predicted_city)"
   ]
  },
  {
   "cell_type": "code",
   "execution_count": 24,
   "metadata": {},
   "outputs": [
    {
     "name": "stdout",
     "output_type": "stream",
     "text": [
      "85.59016393442623\n"
     ]
    }
   ],
   "source": [
    "train_X, val_X, train_y, val_y = train_test_split(X,y,random_state=0)\n",
    "#define model\n",
    "df_model = DecisionTreeRegressor()\n",
    "#fit model\n",
    "df_model.fit(train_X,train_y)\n",
    "\n",
    "#retrieve predicted city on validated data\n",
    "val_predictions = df_model.predict(val_X)\n",
    "print(mean_absolute_error(val_y, val_predictions))"
   ]
  },
  {
   "cell_type": "code",
   "execution_count": 25,
   "metadata": {},
   "outputs": [],
   "source": [
    "#predicted city is about 90 off "
   ]
  },
  {
   "cell_type": "code",
   "execution_count": 26,
   "metadata": {},
   "outputs": [
    {
     "name": "stdout",
     "output_type": "stream",
     "text": [
      "67.78032786885245\n"
     ]
    },
    {
     "name": "stderr",
     "output_type": "stream",
     "text": [
      "/opt/anaconda3/lib/python3.7/site-packages/sklearn/ensemble/forest.py:245: FutureWarning: The default value of n_estimators will change from 10 in version 0.20 to 100 in 0.22.\n",
      "  \"10 in version 0.20 to 100 in 0.22.\", FutureWarning)\n"
     ]
    }
   ],
   "source": [
    "forest_model = RandomForestRegressor(random_state=1)\n",
    "forest_model.fit(train_X, train_y)\n",
    "df_prediction = forest_model.predict(val_X)\n",
    "print(mean_absolute_error(val_y, df_prediction))"
   ]
  },
  {
   "cell_type": "code",
   "execution_count": 33,
   "metadata": {},
   "outputs": [
    {
     "data": {
      "text/plain": [
       "array([130.,  70., 104.,  93., 149., 126.,  98., 125.,  86.,  60.,  66.,\n",
       "        96.,  64., 117.,  90., 122., 142., 129., 125., 111.,  97., 109.,\n",
       "       142., 157., 153.,  81., 118.,  85.,  72., 153., 124.,  67.,  75.,\n",
       "       160., 102., 144., 165., 136., 131., 166., 100., 143., 126.,  96.,\n",
       "       112., 155., 102., 192., 125.,  87., 110., 119., 150., 112., 137.,\n",
       "       102., 112.,  90., 134., 137., 120.])"
      ]
     },
     "execution_count": 33,
     "metadata": {},
     "output_type": "execute_result"
    }
   ],
   "source": [
    "numpy.round(df_prediction)"
   ]
  },
  {
   "cell_type": "code",
   "execution_count": 39,
   "metadata": {},
   "outputs": [
    {
     "data": {
      "text/html": [
       "<div>\n",
       "<style scoped>\n",
       "    .dataframe tbody tr th:only-of-type {\n",
       "        vertical-align: middle;\n",
       "    }\n",
       "\n",
       "    .dataframe tbody tr th {\n",
       "        vertical-align: top;\n",
       "    }\n",
       "\n",
       "    .dataframe thead th {\n",
       "        text-align: right;\n",
       "    }\n",
       "</style>\n",
       "<table border=\"1\" class=\"dataframe\">\n",
       "  <thead>\n",
       "    <tr style=\"text-align: right;\">\n",
       "      <th></th>\n",
       "      <th>City</th>\n",
       "      <th>Cost of Living Index_x</th>\n",
       "      <th>Rent Index</th>\n",
       "      <th>Cost of Living Plus Rent</th>\n",
       "      <th>Groceries Index</th>\n",
       "      <th>Resaurant Price Index</th>\n",
       "      <th>Local Purchasing Power Index</th>\n",
       "      <th>Price To Income Ratio</th>\n",
       "      <th>Gross Rental Yield City Centre</th>\n",
       "      <th>Gross Rental Yield Outside of Centre</th>\n",
       "      <th>...</th>\n",
       "      <th>Quality of Life Index</th>\n",
       "      <th>Purchasing Power Index</th>\n",
       "      <th>Safety Index</th>\n",
       "      <th>Health Care Index</th>\n",
       "      <th>Cost of Living Index_y</th>\n",
       "      <th>Property Price to Income Ratio</th>\n",
       "      <th>Traffic Commute Time Index</th>\n",
       "      <th>Pollution Index</th>\n",
       "      <th>Climate Index</th>\n",
       "      <th>City_Codes</th>\n",
       "    </tr>\n",
       "  </thead>\n",
       "  <tbody>\n",
       "    <tr>\n",
       "      <td>35</td>\n",
       "      <td>Lyon, France</td>\n",
       "      <td>78.93</td>\n",
       "      <td>26.9</td>\n",
       "      <td>54.0</td>\n",
       "      <td>74.98</td>\n",
       "      <td>67.47</td>\n",
       "      <td>80.18</td>\n",
       "      <td>9.3</td>\n",
       "      <td>3.19</td>\n",
       "      <td>3.78</td>\n",
       "      <td>...</td>\n",
       "      <td>153.81</td>\n",
       "      <td>80.18</td>\n",
       "      <td>55.28</td>\n",
       "      <td>77.39</td>\n",
       "      <td>78.93</td>\n",
       "      <td>9.3</td>\n",
       "      <td>33.78</td>\n",
       "      <td>48.4</td>\n",
       "      <td>88.51</td>\n",
       "      <td>126</td>\n",
       "    </tr>\n",
       "  </tbody>\n",
       "</table>\n",
       "<p>1 rows × 24 columns</p>\n",
       "</div>"
      ],
      "text/plain": [
       "            City  Cost of Living Index_x  Rent Index  \\\n",
       "35  Lyon, France                   78.93        26.9   \n",
       "\n",
       "    Cost of Living Plus Rent  Groceries Index  Resaurant Price Index  \\\n",
       "35                      54.0            74.98                  67.47   \n",
       "\n",
       "    Local Purchasing Power Index  Price To Income Ratio  \\\n",
       "35                         80.18                    9.3   \n",
       "\n",
       "    Gross Rental Yield City Centre  Gross Rental Yield Outside of Centre  ...  \\\n",
       "35                            3.19                                  3.78  ...   \n",
       "\n",
       "    Quality of Life Index  Purchasing Power Index  Safety Index  \\\n",
       "35                 153.81                   80.18         55.28   \n",
       "\n",
       "    Health Care Index  Cost of Living Index_y  Property Price to Income Ratio  \\\n",
       "35              77.39                   78.93                             9.3   \n",
       "\n",
       "    Traffic Commute Time Index  Pollution Index  Climate Index  City_Codes  \n",
       "35                       33.78             48.4          88.51         126  \n",
       "\n",
       "[1 rows x 24 columns]"
      ]
     },
     "execution_count": 39,
     "metadata": {},
     "output_type": "execute_result"
    }
   ],
   "source": [
    "df_withLife.loc[df_withLife['City_Codes'] == 126]"
   ]
  },
  {
   "cell_type": "code",
   "execution_count": null,
   "metadata": {},
   "outputs": [],
   "source": []
  }
 ],
 "metadata": {
  "kernelspec": {
   "display_name": "Python 3",
   "language": "python",
   "name": "python3"
  },
  "language_info": {
   "codemirror_mode": {
    "name": "ipython",
    "version": 3
   },
   "file_extension": ".py",
   "mimetype": "text/x-python",
   "name": "python",
   "nbconvert_exporter": "python",
   "pygments_lexer": "ipython3",
   "version": "3.7.4"
  }
 },
 "nbformat": 4,
 "nbformat_minor": 2
}
