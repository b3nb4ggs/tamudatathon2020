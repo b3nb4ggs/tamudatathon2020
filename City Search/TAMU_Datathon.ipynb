{
 "cells": [
  {
   "cell_type": "code",
   "execution_count": 1,
   "metadata": {},
   "outputs": [],
   "source": [
    "import pandas as pd\n",
    "import seaborn as sb"
   ]
  },
  {
   "cell_type": "code",
   "execution_count": 2,
   "metadata": {},
   "outputs": [],
   "source": [
    "#reading in csv files that we will use\n",
    "multi_df = pd.read_csv('Multi_Value_Numbeo.csv') \n",
    "quality_df = pd.read_csv('Quality_of_Life_Numbeo.csv')\n",
    "property_df = pd.read_csv('Property_Prices_Numbeo.csv')"
   ]
  },
  {
   "cell_type": "code",
   "execution_count": 3,
   "metadata": {},
   "outputs": [
    {
     "name": "stdout",
     "output_type": "stream",
     "text": [
      "Rank                            0\n",
      "City                            0\n",
      "Cost of Living Index            0\n",
      "Rent Index                      0\n",
      "Cost of Living Plus Rent        0\n",
      "Groceries Index                 0\n",
      "Resaurant Price Index           0\n",
      "Local Purchasing Power Index    0\n",
      "dtype: int64\n",
      "-----------------------------------\n",
      "Rank                              0\n",
      "City                              0\n",
      "Quality of Life Index             0\n",
      "Purchasing Power Index            0\n",
      "Safety Index                      0\n",
      "Health Care Index                 0\n",
      "Cost of Living Index              0\n",
      "Property Price to Income Ratio    0\n",
      "Traffic Commute Time Index        0\n",
      "Pollution Index                   0\n",
      "Climate Index                     0\n",
      "dtype: int64\n",
      "-----------------------------------\n",
      "Rank                                          0\n",
      "City                                          0\n",
      "Price To Income Ratio                         0\n",
      "Gross Rental Yield City Centre                0\n",
      "Gross Rental Yield Outside of Centre          0\n",
      "Price To Rent Ratio City Centre               0\n",
      "Price To Rent Ratio Outside Of City Centre    0\n",
      "Mortgage As A Percentage Of Income            0\n",
      "Affordability Index                           0\n",
      "dtype: int64\n"
     ]
    }
   ],
   "source": [
    "#Checking to see if there are any null - empty values in dataset\n",
    "print(multi_df.isnull().sum())\n",
    "print(\"-----------------------------------\")\n",
    "print(quality_df.isnull().sum())\n",
    "print(\"-----------------------------------\")\n",
    "print(property_df.isnull().sum())"
   ]
  },
  {
   "cell_type": "code",
   "execution_count": 5,
   "metadata": {},
   "outputs": [
    {
     "name": "stdout",
     "output_type": "stream",
     "text": [
      "Multi_df 573\n",
      "Quality_df 250\n",
      "Property_df 480\n"
     ]
    }
   ],
   "source": [
    "#checking to see how many rows are in the df\n",
    "print(\"Multi_df\",multi_df.shape[0])\n",
    "print(\"Quality_df\",quality_df.shape[0])\n",
    "print(\"Property_df\",property_df.shape[0])"
   ]
  },
  {
   "cell_type": "markdown",
   "metadata": {},
   "source": [
    "if 'Adelaide, Australia' not in multi_df.City:\n",
    "    print(\"yes\")"
   ]
  },
  {
   "cell_type": "code",
   "execution_count": 6,
   "metadata": {},
   "outputs": [],
   "source": [
    "multi_df = multi_df.drop(\"Rank\",axis=1)\n",
    "quality_df = quality_df.drop(\"Rank\",axis=1)\n",
    "property_df = property_df.drop(\"Rank\",axis=1)"
   ]
  },
  {
   "cell_type": "code",
   "execution_count": 15,
   "metadata": {},
   "outputs": [],
   "source": [
    "df = pd.merge(multi_df, property_df, on='City')"
   ]
  },
  {
   "cell_type": "code",
   "execution_count": 16,
   "metadata": {},
   "outputs": [
    {
     "data": {
      "text/plain": [
       "440"
      ]
     },
     "execution_count": 16,
     "metadata": {},
     "output_type": "execute_result"
    }
   ],
   "source": [
    "df.shape[0]"
   ]
  },
  {
   "cell_type": "code",
   "execution_count": 21,
   "metadata": {},
   "outputs": [],
   "source": [
    "df_withLife = pd.merge(df, quality_df, how='inner',on='City')"
   ]
  },
  {
   "cell_type": "code",
   "execution_count": 23,
   "metadata": {},
   "outputs": [
    {
     "data": {
      "text/plain": [
       "241"
      ]
     },
     "execution_count": 23,
     "metadata": {},
     "output_type": "execute_result"
    }
   ],
   "source": [
    "df_withLife.shape[0]"
   ]
  },
  {
   "cell_type": "code",
   "execution_count": 33,
   "metadata": {},
   "outputs": [
    {
     "data": {
      "text/html": [
       "<div>\n",
       "<style scoped>\n",
       "    .dataframe tbody tr th:only-of-type {\n",
       "        vertical-align: middle;\n",
       "    }\n",
       "\n",
       "    .dataframe tbody tr th {\n",
       "        vertical-align: top;\n",
       "    }\n",
       "\n",
       "    .dataframe thead th {\n",
       "        text-align: right;\n",
       "    }\n",
       "</style>\n",
       "<table border=\"1\" class=\"dataframe\">\n",
       "  <thead>\n",
       "    <tr style=\"text-align: right;\">\n",
       "      <th></th>\n",
       "      <th>City</th>\n",
       "      <th>Cost of Living Index_x</th>\n",
       "      <th>Rent Index</th>\n",
       "      <th>Cost of Living Plus Rent</th>\n",
       "      <th>Groceries Index</th>\n",
       "      <th>Resaurant Price Index</th>\n",
       "      <th>Local Purchasing Power Index</th>\n",
       "      <th>Price To Income Ratio</th>\n",
       "      <th>Gross Rental Yield City Centre</th>\n",
       "      <th>Gross Rental Yield Outside of Centre</th>\n",
       "      <th>...</th>\n",
       "      <th>Affordability Index</th>\n",
       "      <th>Quality of Life Index</th>\n",
       "      <th>Purchasing Power Index</th>\n",
       "      <th>Safety Index</th>\n",
       "      <th>Health Care Index</th>\n",
       "      <th>Cost of Living Index_y</th>\n",
       "      <th>Property Price to Income Ratio</th>\n",
       "      <th>Traffic Commute Time Index</th>\n",
       "      <th>Pollution Index</th>\n",
       "      <th>Climate Index</th>\n",
       "    </tr>\n",
       "  </thead>\n",
       "  <tbody>\n",
       "    <tr>\n",
       "      <td>0</td>\n",
       "      <td>Zurich, Switzerland</td>\n",
       "      <td>132.00</td>\n",
       "      <td>65.85</td>\n",
       "      <td>100.30</td>\n",
       "      <td>133.03</td>\n",
       "      <td>120.68</td>\n",
       "      <td>123.01</td>\n",
       "      <td>8.10</td>\n",
       "      <td>3.29</td>\n",
       "      <td>3.80</td>\n",
       "      <td>...</td>\n",
       "      <td>2.18</td>\n",
       "      <td>199.53</td>\n",
       "      <td>123.01</td>\n",
       "      <td>83.87</td>\n",
       "      <td>75.94</td>\n",
       "      <td>132.00</td>\n",
       "      <td>8.10</td>\n",
       "      <td>33.53</td>\n",
       "      <td>16.63</td>\n",
       "      <td>81.48</td>\n",
       "    </tr>\n",
       "    <tr>\n",
       "      <td>1</td>\n",
       "      <td>Geneva, Switzerland</td>\n",
       "      <td>128.14</td>\n",
       "      <td>66.41</td>\n",
       "      <td>98.56</td>\n",
       "      <td>127.77</td>\n",
       "      <td>119.58</td>\n",
       "      <td>114.18</td>\n",
       "      <td>9.25</td>\n",
       "      <td>3.23</td>\n",
       "      <td>3.55</td>\n",
       "      <td>...</td>\n",
       "      <td>1.83</td>\n",
       "      <td>186.60</td>\n",
       "      <td>114.18</td>\n",
       "      <td>72.59</td>\n",
       "      <td>73.08</td>\n",
       "      <td>128.14</td>\n",
       "      <td>9.25</td>\n",
       "      <td>25.49</td>\n",
       "      <td>25.99</td>\n",
       "      <td>82.61</td>\n",
       "    </tr>\n",
       "    <tr>\n",
       "      <td>2</td>\n",
       "      <td>New York, NY, United States</td>\n",
       "      <td>100.00</td>\n",
       "      <td>100.00</td>\n",
       "      <td>100.00</td>\n",
       "      <td>100.00</td>\n",
       "      <td>100.00</td>\n",
       "      <td>100.00</td>\n",
       "      <td>10.39</td>\n",
       "      <td>4.85</td>\n",
       "      <td>5.43</td>\n",
       "      <td>...</td>\n",
       "      <td>1.34</td>\n",
       "      <td>136.75</td>\n",
       "      <td>100.00</td>\n",
       "      <td>53.84</td>\n",
       "      <td>61.59</td>\n",
       "      <td>100.00</td>\n",
       "      <td>10.39</td>\n",
       "      <td>43.13</td>\n",
       "      <td>59.11</td>\n",
       "      <td>79.66</td>\n",
       "    </tr>\n",
       "    <tr>\n",
       "      <td>3</td>\n",
       "      <td>Oslo, Norway</td>\n",
       "      <td>95.41</td>\n",
       "      <td>40.20</td>\n",
       "      <td>68.95</td>\n",
       "      <td>90.14</td>\n",
       "      <td>94.37</td>\n",
       "      <td>87.20</td>\n",
       "      <td>10.92</td>\n",
       "      <td>3.13</td>\n",
       "      <td>3.59</td>\n",
       "      <td>...</td>\n",
       "      <td>1.39</td>\n",
       "      <td>164.11</td>\n",
       "      <td>87.20</td>\n",
       "      <td>64.16</td>\n",
       "      <td>75.26</td>\n",
       "      <td>95.41</td>\n",
       "      <td>10.92</td>\n",
       "      <td>31.92</td>\n",
       "      <td>24.79</td>\n",
       "      <td>59.99</td>\n",
       "    </tr>\n",
       "    <tr>\n",
       "      <td>4</td>\n",
       "      <td>Honolulu, HI, United States</td>\n",
       "      <td>95.08</td>\n",
       "      <td>63.69</td>\n",
       "      <td>80.04</td>\n",
       "      <td>101.17</td>\n",
       "      <td>79.75</td>\n",
       "      <td>75.98</td>\n",
       "      <td>9.35</td>\n",
       "      <td>5.42</td>\n",
       "      <td>6.53</td>\n",
       "      <td>...</td>\n",
       "      <td>1.46</td>\n",
       "      <td>154.85</td>\n",
       "      <td>75.98</td>\n",
       "      <td>55.43</td>\n",
       "      <td>72.42</td>\n",
       "      <td>95.08</td>\n",
       "      <td>9.35</td>\n",
       "      <td>41.19</td>\n",
       "      <td>36.82</td>\n",
       "      <td>95.33</td>\n",
       "    </tr>\n",
       "  </tbody>\n",
       "</table>\n",
       "<p>5 rows × 23 columns</p>\n",
       "</div>"
      ],
      "text/plain": [
       "                          City  Cost of Living Index_x  Rent Index  \\\n",
       "0          Zurich, Switzerland                  132.00       65.85   \n",
       "1          Geneva, Switzerland                  128.14       66.41   \n",
       "2  New York, NY, United States                  100.00      100.00   \n",
       "3                 Oslo, Norway                   95.41       40.20   \n",
       "4  Honolulu, HI, United States                   95.08       63.69   \n",
       "\n",
       "   Cost of Living Plus Rent  Groceries Index  Resaurant Price Index  \\\n",
       "0                    100.30           133.03                 120.68   \n",
       "1                     98.56           127.77                 119.58   \n",
       "2                    100.00           100.00                 100.00   \n",
       "3                     68.95            90.14                  94.37   \n",
       "4                     80.04           101.17                  79.75   \n",
       "\n",
       "   Local Purchasing Power Index  Price To Income Ratio  \\\n",
       "0                        123.01                   8.10   \n",
       "1                        114.18                   9.25   \n",
       "2                        100.00                  10.39   \n",
       "3                         87.20                  10.92   \n",
       "4                         75.98                   9.35   \n",
       "\n",
       "   Gross Rental Yield City Centre  Gross Rental Yield Outside of Centre  ...  \\\n",
       "0                            3.29                                  3.80  ...   \n",
       "1                            3.23                                  3.55  ...   \n",
       "2                            4.85                                  5.43  ...   \n",
       "3                            3.13                                  3.59  ...   \n",
       "4                            5.42                                  6.53  ...   \n",
       "\n",
       "   Affordability Index  Quality of Life Index  Purchasing Power Index  \\\n",
       "0                 2.18                 199.53                  123.01   \n",
       "1                 1.83                 186.60                  114.18   \n",
       "2                 1.34                 136.75                  100.00   \n",
       "3                 1.39                 164.11                   87.20   \n",
       "4                 1.46                 154.85                   75.98   \n",
       "\n",
       "   Safety Index  Health Care Index  Cost of Living Index_y  \\\n",
       "0         83.87              75.94                  132.00   \n",
       "1         72.59              73.08                  128.14   \n",
       "2         53.84              61.59                  100.00   \n",
       "3         64.16              75.26                   95.41   \n",
       "4         55.43              72.42                   95.08   \n",
       "\n",
       "   Property Price to Income Ratio  Traffic Commute Time Index  \\\n",
       "0                            8.10                       33.53   \n",
       "1                            9.25                       25.49   \n",
       "2                           10.39                       43.13   \n",
       "3                           10.92                       31.92   \n",
       "4                            9.35                       41.19   \n",
       "\n",
       "   Pollution Index  Climate Index  \n",
       "0            16.63          81.48  \n",
       "1            25.99          82.61  \n",
       "2            59.11          79.66  \n",
       "3            24.79          59.99  \n",
       "4            36.82          95.33  \n",
       "\n",
       "[5 rows x 23 columns]"
      ]
     },
     "execution_count": 33,
     "metadata": {},
     "output_type": "execute_result"
    }
   ],
   "source": [
    "df_withLife.head()"
   ]
  },
  {
   "cell_type": "code",
   "execution_count": 32,
   "metadata": {},
   "outputs": [
    {
     "name": "stdout",
     "output_type": "stream",
     "text": [
      "Index(['City', 'Cost of Living Index_x', 'Rent Index',\n",
      "       'Cost of Living Plus Rent', 'Groceries Index', 'Resaurant Price Index',\n",
      "       'Local Purchasing Power Index', 'Price To Income Ratio',\n",
      "       'Gross Rental Yield City Centre',\n",
      "       'Gross Rental Yield Outside of Centre',\n",
      "       'Price To Rent Ratio City Centre',\n",
      "       'Price To Rent Ratio Outside Of City Centre',\n",
      "       'Mortgage As A Percentage Of Income', 'Affordability Index',\n",
      "       'Quality of Life Index', 'Purchasing Power Index', 'Safety Index',\n",
      "       'Health Care Index', 'Cost of Living Index_y',\n",
      "       'Property Price to Income Ratio', 'Traffic Commute Time Index',\n",
      "       'Pollution Index', 'Climate Index'],\n",
      "      dtype='object')\n"
     ]
    }
   ],
   "source": [
    "print(df_withLife.columns)"
   ]
  },
  {
   "cell_type": "code",
   "execution_count": null,
   "metadata": {},
   "outputs": [],
   "source": []
  }
 ],
 "metadata": {
  "kernelspec": {
   "display_name": "Python 3",
   "language": "python",
   "name": "python3"
  },
  "language_info": {
   "codemirror_mode": {
    "name": "ipython",
    "version": 3
   },
   "file_extension": ".py",
   "mimetype": "text/x-python",
   "name": "python",
   "nbconvert_exporter": "python",
   "pygments_lexer": "ipython3",
   "version": "3.7.4"
  }
 },
 "nbformat": 4,
 "nbformat_minor": 2
}
