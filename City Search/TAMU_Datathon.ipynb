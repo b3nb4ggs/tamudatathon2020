{
 "cells": [
  {
   "cell_type": "markdown",
   "metadata": {},
   "source": [
    "### Data Use: <p>Effectively used data, acquired additional data </p>\n",
    "### Analytics: <p>Effective application of analytics (bonus points for ML/clustering techniques)</p>\n",
    "### Visualization: <p>Solution is visually appealing and useful (Bonus points if you create an interactive tool/application/website) </p>\n",
    "### Impact: <p> Clear impact of solution to solving problem </p>"
   ]
  },
  {
   "cell_type": "code",
   "execution_count": 1,
   "metadata": {},
   "outputs": [],
   "source": [
    "import pandas as pd\n",
    "import seaborn as sb\n",
    "import numpy \n",
    "\n",
    "from sklearn.tree import DecisionTreeRegressor\n",
    "from sklearn.metrics import mean_absolute_error\n",
    "from sklearn.model_selection import train_test_split\n",
    "from sklearn.ensemble import RandomForestRegressor\n"
   ]
  },
  {
   "cell_type": "code",
   "execution_count": 2,
   "metadata": {},
   "outputs": [],
   "source": [
    "#reading in csv files that we will use\n",
    "multi_df = pd.read_csv('Multi_Value_Numbeo.csv') \n",
    "quality_df = pd.read_csv('Quality_of_Life_Numbeo.csv')\n",
    "property_df = pd.read_csv('Property_Prices_Numbeo.csv')\n",
    "\n",
    "move_df = pd.read_csv('movehubqualityoflife.csv')"
   ]
  },
  {
   "cell_type": "markdown",
   "metadata": {},
   "source": [
    "# Data Cleaning, Joining, & Creating the DF to model and visualize data with"
   ]
  },
  {
   "cell_type": "code",
   "execution_count": 3,
   "metadata": {},
   "outputs": [
    {
     "name": "stdout",
     "output_type": "stream",
     "text": [
      "Rank                            0\n",
      "City                            0\n",
      "Cost of Living Index            0\n",
      "Rent Index                      0\n",
      "Cost of Living Plus Rent        0\n",
      "Groceries Index                 0\n",
      "Resaurant Price Index           0\n",
      "Local Purchasing Power Index    0\n",
      "dtype: int64\n",
      "-----------------------------------\n",
      "Rank                              0\n",
      "City                              0\n",
      "Quality of Life Index             0\n",
      "Purchasing Power Index            0\n",
      "Safety Index                      0\n",
      "Health Care Index                 0\n",
      "Cost of Living Index              0\n",
      "Property Price to Income Ratio    0\n",
      "Traffic Commute Time Index        0\n",
      "Pollution Index                   0\n",
      "Climate Index                     0\n",
      "dtype: int64\n",
      "-----------------------------------\n",
      "Rank                                          0\n",
      "City                                          0\n",
      "Price To Income Ratio                         0\n",
      "Gross Rental Yield City Centre                0\n",
      "Gross Rental Yield Outside of Centre          0\n",
      "Price To Rent Ratio City Centre               0\n",
      "Price To Rent Ratio Outside Of City Centre    0\n",
      "Mortgage As A Percentage Of Income            0\n",
      "Affordability Index                           0\n",
      "dtype: int64\n",
      "-----------------------------------\n",
      "City               0\n",
      "Movehub Rating     0\n",
      "Purchase Power     0\n",
      "Health Care        0\n",
      "Pollution          0\n",
      "Quality of Life    0\n",
      "Crime Rating       0\n",
      "lat                0\n",
      "lng                0\n",
      "dtype: int64\n"
     ]
    }
   ],
   "source": [
    "#Checking to see if there are any null - empty values in dataset\n",
    "print(multi_df.isnull().sum())\n",
    "print(\"-----------------------------------\")\n",
    "print(quality_df.isnull().sum())\n",
    "print(\"-----------------------------------\")\n",
    "print(property_df.isnull().sum())\n",
    "print(\"-----------------------------------\")\n",
    "print(move_df.isnull().sum())"
   ]
  },
  {
   "cell_type": "code",
   "execution_count": 4,
   "metadata": {},
   "outputs": [
    {
     "name": "stdout",
     "output_type": "stream",
     "text": [
      "Multi_df 573\n",
      "Quality_df 250\n",
      "Property_df 480\n",
      "move_df 216\n"
     ]
    }
   ],
   "source": [
    "#checking to see how many rows are in the df\n",
    "print(\"Multi_df\",multi_df.shape[0])\n",
    "print(\"Quality_df\",quality_df.shape[0])\n",
    "print(\"Property_df\",property_df.shape[0])\n",
    "print(\"move_df\",move_df.shape[0])"
   ]
  },
  {
   "cell_type": "markdown",
   "metadata": {},
   "source": [
    "if 'Adelaide, Australia' not in multi_df.City:\n",
    "    print(\"yes\")"
   ]
  },
  {
   "cell_type": "code",
   "execution_count": 5,
   "metadata": {},
   "outputs": [
    {
     "data": {
      "text/html": [
       "<div>\n",
       "<style scoped>\n",
       "    .dataframe tbody tr th:only-of-type {\n",
       "        vertical-align: middle;\n",
       "    }\n",
       "\n",
       "    .dataframe tbody tr th {\n",
       "        vertical-align: top;\n",
       "    }\n",
       "\n",
       "    .dataframe thead th {\n",
       "        text-align: right;\n",
       "    }\n",
       "</style>\n",
       "<table border=\"1\" class=\"dataframe\">\n",
       "  <thead>\n",
       "    <tr style=\"text-align: right;\">\n",
       "      <th></th>\n",
       "      <th>City</th>\n",
       "      <th>Movehub Rating</th>\n",
       "      <th>Purchase Power</th>\n",
       "      <th>Health Care</th>\n",
       "      <th>Pollution</th>\n",
       "      <th>Quality of Life</th>\n",
       "      <th>Crime Rating</th>\n",
       "      <th>lat</th>\n",
       "      <th>lng</th>\n",
       "    </tr>\n",
       "  </thead>\n",
       "  <tbody>\n",
       "    <tr>\n",
       "      <td>0</td>\n",
       "      <td>Caracas</td>\n",
       "      <td>65.18</td>\n",
       "      <td>11.25</td>\n",
       "      <td>44.44</td>\n",
       "      <td>83.45</td>\n",
       "      <td>8.61</td>\n",
       "      <td>85.70</td>\n",
       "      <td>10.480594</td>\n",
       "      <td>-66.903606</td>\n",
       "    </tr>\n",
       "    <tr>\n",
       "      <td>1</td>\n",
       "      <td>Johannesburg</td>\n",
       "      <td>84.08</td>\n",
       "      <td>53.99</td>\n",
       "      <td>59.98</td>\n",
       "      <td>47.39</td>\n",
       "      <td>51.26</td>\n",
       "      <td>83.93</td>\n",
       "      <td>-26.204103</td>\n",
       "      <td>28.047305</td>\n",
       "    </tr>\n",
       "  </tbody>\n",
       "</table>\n",
       "</div>"
      ],
      "text/plain": [
       "           City  Movehub Rating  Purchase Power  Health Care  Pollution  \\\n",
       "0       Caracas           65.18           11.25        44.44      83.45   \n",
       "1  Johannesburg           84.08           53.99        59.98      47.39   \n",
       "\n",
       "   Quality of Life  Crime Rating        lat        lng  \n",
       "0             8.61         85.70  10.480594 -66.903606  \n",
       "1            51.26         83.93 -26.204103  28.047305  "
      ]
     },
     "execution_count": 5,
     "metadata": {},
     "output_type": "execute_result"
    }
   ],
   "source": [
    "move_df.head(2)"
   ]
  },
  {
   "cell_type": "code",
   "execution_count": 6,
   "metadata": {},
   "outputs": [],
   "source": [
    "#drop rank because they are unneccesary to us\n",
    "multi_df = multi_df.drop(\"Rank\",axis=1)\n",
    "quality_df = quality_df.drop(\"Rank\",axis=1)\n",
    "property_df = property_df.drop(\"Rank\",axis=1)"
   ]
  },
  {
   "cell_type": "code",
   "execution_count": 7,
   "metadata": {},
   "outputs": [],
   "source": [
    "#join inner\n",
    "df = pd.merge(multi_df, property_df, on='City')"
   ]
  },
  {
   "cell_type": "code",
   "execution_count": 8,
   "metadata": {},
   "outputs": [
    {
     "data": {
      "text/plain": [
       "440"
      ]
     },
     "execution_count": 8,
     "metadata": {},
     "output_type": "execute_result"
    }
   ],
   "source": [
    "#looking at shape after join\n",
    "df.shape[0]"
   ]
  },
  {
   "cell_type": "code",
   "execution_count": 9,
   "metadata": {},
   "outputs": [],
   "source": [
    "#join inner\n",
    "df_withLife = pd.merge(df, quality_df,on='City')"
   ]
  },
  {
   "cell_type": "code",
   "execution_count": 10,
   "metadata": {},
   "outputs": [
    {
     "data": {
      "text/plain": [
       "241"
      ]
     },
     "execution_count": 10,
     "metadata": {},
     "output_type": "execute_result"
    }
   ],
   "source": [
    "df_withLife.shape[0]"
   ]
  },
  {
   "cell_type": "code",
   "execution_count": 11,
   "metadata": {},
   "outputs": [
    {
     "data": {
      "text/html": [
       "<div>\n",
       "<style scoped>\n",
       "    .dataframe tbody tr th:only-of-type {\n",
       "        vertical-align: middle;\n",
       "    }\n",
       "\n",
       "    .dataframe tbody tr th {\n",
       "        vertical-align: top;\n",
       "    }\n",
       "\n",
       "    .dataframe thead th {\n",
       "        text-align: right;\n",
       "    }\n",
       "</style>\n",
       "<table border=\"1\" class=\"dataframe\">\n",
       "  <thead>\n",
       "    <tr style=\"text-align: right;\">\n",
       "      <th></th>\n",
       "      <th>City</th>\n",
       "      <th>Cost of Living Index_x</th>\n",
       "      <th>Rent Index</th>\n",
       "      <th>Cost of Living Plus Rent</th>\n",
       "      <th>Groceries Index</th>\n",
       "      <th>Resaurant Price Index</th>\n",
       "      <th>Local Purchasing Power Index</th>\n",
       "      <th>Price To Income Ratio</th>\n",
       "      <th>Gross Rental Yield City Centre</th>\n",
       "      <th>Gross Rental Yield Outside of Centre</th>\n",
       "      <th>...</th>\n",
       "      <th>Affordability Index</th>\n",
       "      <th>Quality of Life Index</th>\n",
       "      <th>Purchasing Power Index</th>\n",
       "      <th>Safety Index</th>\n",
       "      <th>Health Care Index</th>\n",
       "      <th>Cost of Living Index_y</th>\n",
       "      <th>Property Price to Income Ratio</th>\n",
       "      <th>Traffic Commute Time Index</th>\n",
       "      <th>Pollution Index</th>\n",
       "      <th>Climate Index</th>\n",
       "    </tr>\n",
       "  </thead>\n",
       "  <tbody>\n",
       "    <tr>\n",
       "      <td>0</td>\n",
       "      <td>Zurich, Switzerland</td>\n",
       "      <td>132.00</td>\n",
       "      <td>65.85</td>\n",
       "      <td>100.30</td>\n",
       "      <td>133.03</td>\n",
       "      <td>120.68</td>\n",
       "      <td>123.01</td>\n",
       "      <td>8.10</td>\n",
       "      <td>3.29</td>\n",
       "      <td>3.80</td>\n",
       "      <td>...</td>\n",
       "      <td>2.18</td>\n",
       "      <td>199.53</td>\n",
       "      <td>123.01</td>\n",
       "      <td>83.87</td>\n",
       "      <td>75.94</td>\n",
       "      <td>132.00</td>\n",
       "      <td>8.10</td>\n",
       "      <td>33.53</td>\n",
       "      <td>16.63</td>\n",
       "      <td>81.48</td>\n",
       "    </tr>\n",
       "    <tr>\n",
       "      <td>1</td>\n",
       "      <td>Geneva, Switzerland</td>\n",
       "      <td>128.14</td>\n",
       "      <td>66.41</td>\n",
       "      <td>98.56</td>\n",
       "      <td>127.77</td>\n",
       "      <td>119.58</td>\n",
       "      <td>114.18</td>\n",
       "      <td>9.25</td>\n",
       "      <td>3.23</td>\n",
       "      <td>3.55</td>\n",
       "      <td>...</td>\n",
       "      <td>1.83</td>\n",
       "      <td>186.60</td>\n",
       "      <td>114.18</td>\n",
       "      <td>72.59</td>\n",
       "      <td>73.08</td>\n",
       "      <td>128.14</td>\n",
       "      <td>9.25</td>\n",
       "      <td>25.49</td>\n",
       "      <td>25.99</td>\n",
       "      <td>82.61</td>\n",
       "    </tr>\n",
       "  </tbody>\n",
       "</table>\n",
       "<p>2 rows × 23 columns</p>\n",
       "</div>"
      ],
      "text/plain": [
       "                  City  Cost of Living Index_x  Rent Index  \\\n",
       "0  Zurich, Switzerland                  132.00       65.85   \n",
       "1  Geneva, Switzerland                  128.14       66.41   \n",
       "\n",
       "   Cost of Living Plus Rent  Groceries Index  Resaurant Price Index  \\\n",
       "0                    100.30           133.03                 120.68   \n",
       "1                     98.56           127.77                 119.58   \n",
       "\n",
       "   Local Purchasing Power Index  Price To Income Ratio  \\\n",
       "0                        123.01                   8.10   \n",
       "1                        114.18                   9.25   \n",
       "\n",
       "   Gross Rental Yield City Centre  Gross Rental Yield Outside of Centre  ...  \\\n",
       "0                            3.29                                  3.80  ...   \n",
       "1                            3.23                                  3.55  ...   \n",
       "\n",
       "   Affordability Index  Quality of Life Index  Purchasing Power Index  \\\n",
       "0                 2.18                 199.53                  123.01   \n",
       "1                 1.83                 186.60                  114.18   \n",
       "\n",
       "   Safety Index  Health Care Index  Cost of Living Index_y  \\\n",
       "0         83.87              75.94                  132.00   \n",
       "1         72.59              73.08                  128.14   \n",
       "\n",
       "   Property Price to Income Ratio  Traffic Commute Time Index  \\\n",
       "0                            8.10                       33.53   \n",
       "1                            9.25                       25.49   \n",
       "\n",
       "   Pollution Index  Climate Index  \n",
       "0            16.63          81.48  \n",
       "1            25.99          82.61  \n",
       "\n",
       "[2 rows x 23 columns]"
      ]
     },
     "execution_count": 11,
     "metadata": {},
     "output_type": "execute_result"
    }
   ],
   "source": [
    "df_withLife.head(2)"
   ]
  },
  {
   "cell_type": "code",
   "execution_count": 12,
   "metadata": {},
   "outputs": [],
   "source": [
    "#extracting city column into two - city name and country \n",
    "df_withLife['City Name']=df_withLife['City'].str.extract(r'([^,]+)')\n",
    "df_withLife['Country']=df_withLife['City'].str.extract(r'([^,]*$)')"
   ]
  },
  {
   "cell_type": "code",
   "execution_count": 13,
   "metadata": {},
   "outputs": [
    {
     "name": "stdout",
     "output_type": "stream",
     "text": [
      "216\n",
      "Index(['City', 'Movehub Rating', 'Purchase Power', 'Health Care', 'Pollution',\n",
      "       'Quality of Life', 'Crime Rating', 'lat', 'lng'],\n",
      "      dtype='object')\n"
     ]
    }
   ],
   "source": [
    "df_withLife = df_withLife.drop(\"Cost of Living Index_y\",1)\n",
    "print(move_df.shape[0])\n",
    "print(move_df.columns)"
   ]
  },
  {
   "cell_type": "code",
   "execution_count": 14,
   "metadata": {},
   "outputs": [],
   "source": [
    "move_df = move_df.rename(columns={\"City\" : \"City Name\"})\n"
   ]
  },
  {
   "cell_type": "code",
   "execution_count": 15,
   "metadata": {},
   "outputs": [],
   "source": [
    "#join numbeo dataframes with movehub df\n",
    "merged_df = pd.merge(df_withLife, move_df, on='City Name',how='inner')"
   ]
  },
  {
   "cell_type": "code",
   "execution_count": 16,
   "metadata": {
    "scrolled": true
   },
   "outputs": [
    {
     "name": "stdout",
     "output_type": "stream",
     "text": [
      "160\n",
      "City                                          0\n",
      "Cost of Living Index_x                        0\n",
      "Rent Index                                    0\n",
      "Cost of Living Plus Rent                      0\n",
      "Groceries Index                               0\n",
      "Resaurant Price Index                         0\n",
      "Local Purchasing Power Index                  0\n",
      "Price To Income Ratio                         0\n",
      "Gross Rental Yield City Centre                0\n",
      "Gross Rental Yield Outside of Centre          0\n",
      "Price To Rent Ratio City Centre               0\n",
      "Price To Rent Ratio Outside Of City Centre    0\n",
      "Mortgage As A Percentage Of Income            0\n",
      "Affordability Index                           0\n",
      "Quality of Life Index                         0\n",
      "Purchasing Power Index                        0\n",
      "Safety Index                                  0\n",
      "Health Care Index                             0\n",
      "Property Price to Income Ratio                0\n",
      "Traffic Commute Time Index                    0\n",
      "Pollution Index                               0\n",
      "Climate Index                                 0\n",
      "City Name                                     0\n",
      "Country                                       0\n",
      "Movehub Rating                                0\n",
      "Purchase Power                                0\n",
      "Health Care                                   0\n",
      "Pollution                                     0\n",
      "Quality of Life                               0\n",
      "Crime Rating                                  0\n",
      "lat                                           0\n",
      "lng                                           0\n",
      "dtype: int64\n"
     ]
    }
   ],
   "source": [
    "print(merged_df.shape[0])\n",
    "print(merged_df.isnull().sum())"
   ]
  },
  {
   "cell_type": "code",
   "execution_count": 17,
   "metadata": {},
   "outputs": [],
   "source": [
    "#This column is an estimation of consumer goods prices including rent comparing to New York City so we will drop this and take the one from movehub\n",
    "#The movehub Power Purchasing column is comparing average cost of living with the average local wage which is more realistic if we\n",
    "#use this column because if you move to a city and live there - more than likely to work there\n",
    "merged_df = merged_df.drop(\"Local Purchasing Power Index\",1)"
   ]
  },
  {
   "cell_type": "code",
   "execution_count": 18,
   "metadata": {},
   "outputs": [],
   "source": [
    "#take the two columns for pollution\n",
    "df_pollution = pd.DataFrame(list(zip(merged_df['Pollution Index'],merged_df['Pollution'])),columns=[\"Pollution Index\",\"Pollution\"])\n",
    "\n",
    "#return biggest value into new column pollution max\n",
    "merged_df['Pollution Max'] = df_pollution.apply(max, axis=1)"
   ]
  },
  {
   "cell_type": "code",
   "execution_count": 19,
   "metadata": {},
   "outputs": [],
   "source": [
    "merged_df['Health Care Mean'] = merged_df[['Health Care Index', 'Health Care']].mean(axis=1)\n",
    "merged_df = merged_df.drop('Health Care Index',1)\n",
    "merged_df = merged_df.drop('Health Care',1)\n",
    "\n"
   ]
  },
  {
   "cell_type": "code",
   "execution_count": 20,
   "metadata": {},
   "outputs": [
    {
     "data": {
      "text/plain": [
       "Index(['City', 'Cost of Living Index_x', 'Rent Index',\n",
       "       'Cost of Living Plus Rent', 'Groceries Index', 'Resaurant Price Index',\n",
       "       'Price To Income Ratio', 'Gross Rental Yield City Centre',\n",
       "       'Gross Rental Yield Outside of Centre',\n",
       "       'Price To Rent Ratio City Centre',\n",
       "       'Price To Rent Ratio Outside Of City Centre',\n",
       "       'Mortgage As A Percentage Of Income', 'Affordability Index',\n",
       "       'Quality of Life Index', 'Purchasing Power Index', 'Safety Index',\n",
       "       'Property Price to Income Ratio', 'Traffic Commute Time Index',\n",
       "       'Pollution Index', 'Climate Index', 'City Name', 'Country',\n",
       "       'Movehub Rating', 'Purchase Power', 'Pollution', 'Quality of Life',\n",
       "       'Crime Rating', 'lat', 'lng', 'Pollution Max', 'Health Care Mean'],\n",
       "      dtype='object')"
      ]
     },
     "execution_count": 20,
     "metadata": {},
     "output_type": "execute_result"
    }
   ],
   "source": [
    "merged_df.columns"
   ]
  },
  {
   "cell_type": "code",
   "execution_count": 21,
   "metadata": {},
   "outputs": [],
   "source": [
    "merged_df = merged_df.rename(columns={\"Pollution Max\" : \"Pollution\", \"Health Care Mean\" : \"Health Care\", \"Cost of Living Plus Rent\" : \"Cost of Living\",\"Traffic Commute Time Index\" : \"Traffic Time Index\"})"
   ]
  },
  {
   "cell_type": "code",
   "execution_count": 22,
   "metadata": {},
   "outputs": [
    {
     "data": {
      "text/html": [
       "<div>\n",
       "<style scoped>\n",
       "    .dataframe tbody tr th:only-of-type {\n",
       "        vertical-align: middle;\n",
       "    }\n",
       "\n",
       "    .dataframe tbody tr th {\n",
       "        vertical-align: top;\n",
       "    }\n",
       "\n",
       "    .dataframe thead th {\n",
       "        text-align: right;\n",
       "    }\n",
       "</style>\n",
       "<table border=\"1\" class=\"dataframe\">\n",
       "  <thead>\n",
       "    <tr style=\"text-align: right;\">\n",
       "      <th></th>\n",
       "      <th>City Name</th>\n",
       "      <th>Country</th>\n",
       "      <th>Purchase Power</th>\n",
       "      <th>Pollution</th>\n",
       "      <th>Pollution</th>\n",
       "      <th>Health Care</th>\n",
       "      <th>Quality of Life</th>\n",
       "      <th>Cost of Living</th>\n",
       "      <th>Safety Index</th>\n",
       "      <th>Crime Rating</th>\n",
       "      <th>Climate Index</th>\n",
       "      <th>Traffic Time Index</th>\n",
       "      <th>lat</th>\n",
       "      <th>lng</th>\n",
       "    </tr>\n",
       "  </thead>\n",
       "  <tbody>\n",
       "    <tr>\n",
       "      <td>0</td>\n",
       "      <td>Zurich</td>\n",
       "      <td>Switzerland</td>\n",
       "      <td>79.58</td>\n",
       "      <td>18.04</td>\n",
       "      <td>18.04</td>\n",
       "      <td>77.135</td>\n",
       "      <td>97.91</td>\n",
       "      <td>100.30</td>\n",
       "      <td>83.87</td>\n",
       "      <td>15.35</td>\n",
       "      <td>81.48</td>\n",
       "      <td>33.53</td>\n",
       "      <td>47.376887</td>\n",
       "      <td>8.541694</td>\n",
       "    </tr>\n",
       "    <tr>\n",
       "      <td>1</td>\n",
       "      <td>Geneva</td>\n",
       "      <td>Switzerland</td>\n",
       "      <td>61.22</td>\n",
       "      <td>29.43</td>\n",
       "      <td>29.43</td>\n",
       "      <td>73.980</td>\n",
       "      <td>82.76</td>\n",
       "      <td>98.56</td>\n",
       "      <td>72.59</td>\n",
       "      <td>54.36</td>\n",
       "      <td>82.61</td>\n",
       "      <td>25.49</td>\n",
       "      <td>46.204391</td>\n",
       "      <td>6.143158</td>\n",
       "    </tr>\n",
       "    <tr>\n",
       "      <td>2</td>\n",
       "      <td>New York</td>\n",
       "      <td>United States</td>\n",
       "      <td>55.56</td>\n",
       "      <td>12.01</td>\n",
       "      <td>59.11</td>\n",
       "      <td>56.490</td>\n",
       "      <td>61.94</td>\n",
       "      <td>100.00</td>\n",
       "      <td>53.84</td>\n",
       "      <td>47.33</td>\n",
       "      <td>79.66</td>\n",
       "      <td>43.13</td>\n",
       "      <td>40.712775</td>\n",
       "      <td>-74.005973</td>\n",
       "    </tr>\n",
       "    <tr>\n",
       "      <td>3</td>\n",
       "      <td>Oslo</td>\n",
       "      <td>Norway</td>\n",
       "      <td>52.51</td>\n",
       "      <td>29.39</td>\n",
       "      <td>29.39</td>\n",
       "      <td>81.725</td>\n",
       "      <td>71.27</td>\n",
       "      <td>68.95</td>\n",
       "      <td>64.16</td>\n",
       "      <td>35.53</td>\n",
       "      <td>59.99</td>\n",
       "      <td>31.92</td>\n",
       "      <td>59.913869</td>\n",
       "      <td>10.752245</td>\n",
       "    </tr>\n",
       "    <tr>\n",
       "      <td>4</td>\n",
       "      <td>Honolulu</td>\n",
       "      <td>United States</td>\n",
       "      <td>58.54</td>\n",
       "      <td>30.28</td>\n",
       "      <td>36.82</td>\n",
       "      <td>64.725</td>\n",
       "      <td>79.58</td>\n",
       "      <td>80.04</td>\n",
       "      <td>55.43</td>\n",
       "      <td>44.14</td>\n",
       "      <td>95.33</td>\n",
       "      <td>41.19</td>\n",
       "      <td>21.306944</td>\n",
       "      <td>-157.858333</td>\n",
       "    </tr>\n",
       "    <tr>\n",
       "      <td>...</td>\n",
       "      <td>...</td>\n",
       "      <td>...</td>\n",
       "      <td>...</td>\n",
       "      <td>...</td>\n",
       "      <td>...</td>\n",
       "      <td>...</td>\n",
       "      <td>...</td>\n",
       "      <td>...</td>\n",
       "      <td>...</td>\n",
       "      <td>...</td>\n",
       "      <td>...</td>\n",
       "      <td>...</td>\n",
       "      <td>...</td>\n",
       "      <td>...</td>\n",
       "    </tr>\n",
       "    <tr>\n",
       "      <td>155</td>\n",
       "      <td>Pune</td>\n",
       "      <td>India</td>\n",
       "      <td>37.96</td>\n",
       "      <td>79.24</td>\n",
       "      <td>79.24</td>\n",
       "      <td>66.455</td>\n",
       "      <td>43.84</td>\n",
       "      <td>17.25</td>\n",
       "      <td>58.63</td>\n",
       "      <td>41.37</td>\n",
       "      <td>74.32</td>\n",
       "      <td>44.41</td>\n",
       "      <td>18.520430</td>\n",
       "      <td>73.856744</td>\n",
       "    </tr>\n",
       "    <tr>\n",
       "      <td>156</td>\n",
       "      <td>Kolkata</td>\n",
       "      <td>India</td>\n",
       "      <td>28.80</td>\n",
       "      <td>72.59</td>\n",
       "      <td>78.22</td>\n",
       "      <td>44.885</td>\n",
       "      <td>25.64</td>\n",
       "      <td>16.43</td>\n",
       "      <td>52.48</td>\n",
       "      <td>43.33</td>\n",
       "      <td>60.90</td>\n",
       "      <td>60.38</td>\n",
       "      <td>22.572646</td>\n",
       "      <td>88.363895</td>\n",
       "    </tr>\n",
       "    <tr>\n",
       "      <td>157</td>\n",
       "      <td>Chennai</td>\n",
       "      <td>India</td>\n",
       "      <td>32.91</td>\n",
       "      <td>78.07</td>\n",
       "      <td>78.07</td>\n",
       "      <td>69.410</td>\n",
       "      <td>43.89</td>\n",
       "      <td>16.43</td>\n",
       "      <td>59.50</td>\n",
       "      <td>33.22</td>\n",
       "      <td>53.22</td>\n",
       "      <td>47.98</td>\n",
       "      <td>13.082680</td>\n",
       "      <td>80.270718</td>\n",
       "    </tr>\n",
       "    <tr>\n",
       "      <td>158</td>\n",
       "      <td>Lahore</td>\n",
       "      <td>Pakistan</td>\n",
       "      <td>12.45</td>\n",
       "      <td>30.55</td>\n",
       "      <td>78.86</td>\n",
       "      <td>56.830</td>\n",
       "      <td>28.52</td>\n",
       "      <td>13.68</td>\n",
       "      <td>60.49</td>\n",
       "      <td>51.98</td>\n",
       "      <td>67.56</td>\n",
       "      <td>33.69</td>\n",
       "      <td>31.520370</td>\n",
       "      <td>74.358747</td>\n",
       "    </tr>\n",
       "    <tr>\n",
       "      <td>159</td>\n",
       "      <td>Karachi</td>\n",
       "      <td>Pakistan</td>\n",
       "      <td>14.63</td>\n",
       "      <td>69.63</td>\n",
       "      <td>89.44</td>\n",
       "      <td>54.925</td>\n",
       "      <td>18.50</td>\n",
       "      <td>13.52</td>\n",
       "      <td>45.30</td>\n",
       "      <td>74.36</td>\n",
       "      <td>71.32</td>\n",
       "      <td>41.35</td>\n",
       "      <td>24.860734</td>\n",
       "      <td>67.001136</td>\n",
       "    </tr>\n",
       "  </tbody>\n",
       "</table>\n",
       "<p>160 rows × 14 columns</p>\n",
       "</div>"
      ],
      "text/plain": [
       "    City Name         Country  Purchase Power  Pollution  Pollution  \\\n",
       "0      Zurich     Switzerland           79.58      18.04      18.04   \n",
       "1      Geneva     Switzerland           61.22      29.43      29.43   \n",
       "2    New York   United States           55.56      12.01      59.11   \n",
       "3        Oslo          Norway           52.51      29.39      29.39   \n",
       "4    Honolulu   United States           58.54      30.28      36.82   \n",
       "..        ...             ...             ...        ...        ...   \n",
       "155      Pune           India           37.96      79.24      79.24   \n",
       "156   Kolkata           India           28.80      72.59      78.22   \n",
       "157   Chennai           India           32.91      78.07      78.07   \n",
       "158    Lahore        Pakistan           12.45      30.55      78.86   \n",
       "159   Karachi        Pakistan           14.63      69.63      89.44   \n",
       "\n",
       "     Health Care  Quality of Life  Cost of Living  Safety Index  Crime Rating  \\\n",
       "0         77.135            97.91          100.30         83.87         15.35   \n",
       "1         73.980            82.76           98.56         72.59         54.36   \n",
       "2         56.490            61.94          100.00         53.84         47.33   \n",
       "3         81.725            71.27           68.95         64.16         35.53   \n",
       "4         64.725            79.58           80.04         55.43         44.14   \n",
       "..           ...              ...             ...           ...           ...   \n",
       "155       66.455            43.84           17.25         58.63         41.37   \n",
       "156       44.885            25.64           16.43         52.48         43.33   \n",
       "157       69.410            43.89           16.43         59.50         33.22   \n",
       "158       56.830            28.52           13.68         60.49         51.98   \n",
       "159       54.925            18.50           13.52         45.30         74.36   \n",
       "\n",
       "     Climate Index  Traffic Time Index        lat         lng  \n",
       "0            81.48               33.53  47.376887    8.541694  \n",
       "1            82.61               25.49  46.204391    6.143158  \n",
       "2            79.66               43.13  40.712775  -74.005973  \n",
       "3            59.99               31.92  59.913869   10.752245  \n",
       "4            95.33               41.19  21.306944 -157.858333  \n",
       "..             ...                 ...        ...         ...  \n",
       "155          74.32               44.41  18.520430   73.856744  \n",
       "156          60.90               60.38  22.572646   88.363895  \n",
       "157          53.22               47.98  13.082680   80.270718  \n",
       "158          67.56               33.69  31.520370   74.358747  \n",
       "159          71.32               41.35  24.860734   67.001136  \n",
       "\n",
       "[160 rows x 14 columns]"
      ]
     },
     "execution_count": 22,
     "metadata": {},
     "output_type": "execute_result"
    }
   ],
   "source": [
    "merged_df = merged_df[['City Name','Country','Purchase Power','Pollution','Health Care','Quality of Life','Cost of Living','Safety Index','Crime Rating','Climate Index','Traffic Time Index','lat','lng']]\n",
    "merged_df"
   ]
  },
  {
   "cell_type": "markdown",
   "metadata": {},
   "source": [
    "# Data Visualization"
   ]
  },
  {
   "cell_type": "code",
   "execution_count": 23,
   "metadata": {},
   "outputs": [
    {
     "data": {
      "text/plain": [
       "<seaborn.axisgrid.FacetGrid at 0x1a2246bf10>"
      ]
     },
     "execution_count": 23,
     "metadata": {},
     "output_type": "execute_result"
    },
    {
     "data": {
      "image/png": "[encoded data removed]",
      "text/plain": [
       "<Figure size 360x360 with 1 Axes>"
      ]
     },
     "metadata": {
      "needs_background": "light"
     },
     "output_type": "display_data"
    }
   ],
   "source": [
    "sb.relplot(x='Cost of Living',y='Quality of Life',data=merged_df)"
   ]
  },
  {
   "cell_type": "markdown",
   "metadata": {},
   "source": [
    "# Getting Ready for Modeling"
   ]
  },
  {
   "cell_type": "code",
   "execution_count": 24,
   "metadata": {
    "scrolled": false
   },
   "outputs": [
    {
     "data": {
      "text/plain": [
       "City Name              object\n",
       "Country                object\n",
       "Purchase Power        float64\n",
       "Pollution             float64\n",
       "Pollution             float64\n",
       "Health Care           float64\n",
       "Quality of Life       float64\n",
       "Cost of Living        float64\n",
       "Safety Index          float64\n",
       "Crime Rating          float64\n",
       "Climate Index         float64\n",
       "Traffic Time Index    float64\n",
       "lat                   float64\n",
       "lng                   float64\n",
       "dtype: object"
      ]
     },
     "execution_count": 24,
     "metadata": {},
     "output_type": "execute_result"
    }
   ],
   "source": [
    "merged_df.dtypes"
   ]
  },
  {
   "cell_type": "code",
   "execution_count": 25,
   "metadata": {},
   "outputs": [],
   "source": [
    "#encode city column values and give them actual int values \n",
    "merged_df[\"City Name\"] = merged_df[\"City Name\"].astype('category')\n",
    "merged_df[\"City_Codes\"] = merged_df[\"City Name\"].cat.codes\n",
    "\n"
   ]
  },
  {
   "cell_type": "code",
   "execution_count": 26,
   "metadata": {
    "scrolled": true
   },
   "outputs": [
    {
     "data": {
      "text/plain": [
       "City Name             category\n",
       "Country                 object\n",
       "Purchase Power         float64\n",
       "Pollution              float64\n",
       "Pollution              float64\n",
       "Health Care            float64\n",
       "Quality of Life        float64\n",
       "Cost of Living         float64\n",
       "Safety Index           float64\n",
       "Crime Rating           float64\n",
       "Climate Index          float64\n",
       "Traffic Time Index     float64\n",
       "lat                    float64\n",
       "lng                    float64\n",
       "City_Codes               int16\n",
       "dtype: object"
      ]
     },
     "execution_count": 26,
     "metadata": {},
     "output_type": "execute_result"
    }
   ],
   "source": [
    "merged_df.dtypes"
   ]
  },
  {
   "cell_type": "markdown",
   "metadata": {},
   "source": [
    "# Modeling\n",
    "\n",
    "NEEDS WORK "
   ]
  },
  {
   "cell_type": "code",
   "execution_count": 27,
   "metadata": {},
   "outputs": [],
   "source": [
    "#basic first model\n",
    "\n",
    "#selecting the prediction target \n",
    "y = merged_df.City_Codes\n",
    "\n",
    "#choosing features to use (selecting a few as of right now) \n",
    "\n",
    "#####NEEDS TO WORK HERE ADD WEIGHT \n",
    "features = ['Quality of Life','Purchasing Power','Safety Index','Health Care','Cost of Living','Pollution']"
   ]
  },
  {
   "cell_type": "code",
   "execution_count": null,
   "metadata": {},
   "outputs": [],
   "source": []
  },
  {
   "cell_type": "code",
   "execution_count": 28,
   "metadata": {},
   "outputs": [
    {
     "ename": "KeyError",
     "evalue": "\"['Purchasing Power'] not in index\"",
     "output_type": "error",
     "traceback": [
      "\u001b[0;31m---------------------------------------------------------------------------\u001b[0m",
      "\u001b[0;31mKeyError\u001b[0m                                  Traceback (most recent call last)",
      "\u001b[0;32m<ipython-input-28-5d91b1794155>\u001b[0m in \u001b[0;36m<module>\u001b[0;34m\u001b[0m\n\u001b[0;32m----> 1\u001b[0;31m \u001b[0mX\u001b[0m \u001b[0;34m=\u001b[0m \u001b[0mmerged_df\u001b[0m\u001b[0;34m[\u001b[0m\u001b[0mfeatures\u001b[0m\u001b[0;34m]\u001b[0m\u001b[0;34m\u001b[0m\u001b[0;34m\u001b[0m\u001b[0m\n\u001b[0m",
      "\u001b[0;32m/opt/anaconda3/lib/python3.7/site-packages/pandas/core/frame.py\u001b[0m in \u001b[0;36m__getitem__\u001b[0;34m(self, key)\u001b[0m\n\u001b[1;32m   2984\u001b[0m             \u001b[0;32mif\u001b[0m \u001b[0mis_iterator\u001b[0m\u001b[0;34m(\u001b[0m\u001b[0mkey\u001b[0m\u001b[0;34m)\u001b[0m\u001b[0;34m:\u001b[0m\u001b[0;34m\u001b[0m\u001b[0;34m\u001b[0m\u001b[0m\n\u001b[1;32m   2985\u001b[0m                 \u001b[0mkey\u001b[0m \u001b[0;34m=\u001b[0m \u001b[0mlist\u001b[0m\u001b[0;34m(\u001b[0m\u001b[0mkey\u001b[0m\u001b[0;34m)\u001b[0m\u001b[0;34m\u001b[0m\u001b[0;34m\u001b[0m\u001b[0m\n\u001b[0;32m-> 2986\u001b[0;31m             \u001b[0mindexer\u001b[0m \u001b[0;34m=\u001b[0m \u001b[0mself\u001b[0m\u001b[0;34m.\u001b[0m\u001b[0mloc\u001b[0m\u001b[0;34m.\u001b[0m\u001b[0m_convert_to_indexer\u001b[0m\u001b[0;34m(\u001b[0m\u001b[0mkey\u001b[0m\u001b[0;34m,\u001b[0m \u001b[0maxis\u001b[0m\u001b[0;34m=\u001b[0m\u001b[0;36m1\u001b[0m\u001b[0;34m,\u001b[0m \u001b[0mraise_missing\u001b[0m\u001b[0;34m=\u001b[0m\u001b[0;32mTrue\u001b[0m\u001b[0;34m)\u001b[0m\u001b[0;34m\u001b[0m\u001b[0;34m\u001b[0m\u001b[0m\n\u001b[0m\u001b[1;32m   2987\u001b[0m \u001b[0;34m\u001b[0m\u001b[0m\n\u001b[1;32m   2988\u001b[0m         \u001b[0;31m# take() does not accept boolean indexers\u001b[0m\u001b[0;34m\u001b[0m\u001b[0;34m\u001b[0m\u001b[0;34m\u001b[0m\u001b[0m\n",
      "\u001b[0;32m/opt/anaconda3/lib/python3.7/site-packages/pandas/core/indexing.py\u001b[0m in \u001b[0;36m_convert_to_indexer\u001b[0;34m(self, obj, axis, is_setter, raise_missing)\u001b[0m\n\u001b[1;32m   1283\u001b[0m                 \u001b[0;31m# When setting, missing keys are not allowed, even with .loc:\u001b[0m\u001b[0;34m\u001b[0m\u001b[0;34m\u001b[0m\u001b[0;34m\u001b[0m\u001b[0m\n\u001b[1;32m   1284\u001b[0m                 \u001b[0mkwargs\u001b[0m \u001b[0;34m=\u001b[0m \u001b[0;34m{\u001b[0m\u001b[0;34m\"raise_missing\"\u001b[0m\u001b[0;34m:\u001b[0m \u001b[0;32mTrue\u001b[0m \u001b[0;32mif\u001b[0m \u001b[0mis_setter\u001b[0m \u001b[0;32melse\u001b[0m \u001b[0mraise_missing\u001b[0m\u001b[0;34m}\u001b[0m\u001b[0;34m\u001b[0m\u001b[0;34m\u001b[0m\u001b[0m\n\u001b[0;32m-> 1285\u001b[0;31m                 \u001b[0;32mreturn\u001b[0m \u001b[0mself\u001b[0m\u001b[0;34m.\u001b[0m\u001b[0m_get_listlike_indexer\u001b[0m\u001b[0;34m(\u001b[0m\u001b[0mobj\u001b[0m\u001b[0;34m,\u001b[0m \u001b[0maxis\u001b[0m\u001b[0;34m,\u001b[0m \u001b[0;34m**\u001b[0m\u001b[0mkwargs\u001b[0m\u001b[0;34m)\u001b[0m\u001b[0;34m[\u001b[0m\u001b[0;36m1\u001b[0m\u001b[0;34m]\u001b[0m\u001b[0;34m\u001b[0m\u001b[0;34m\u001b[0m\u001b[0m\n\u001b[0m\u001b[1;32m   1286\u001b[0m         \u001b[0;32melse\u001b[0m\u001b[0;34m:\u001b[0m\u001b[0;34m\u001b[0m\u001b[0;34m\u001b[0m\u001b[0m\n\u001b[1;32m   1287\u001b[0m             \u001b[0;32mtry\u001b[0m\u001b[0;34m:\u001b[0m\u001b[0;34m\u001b[0m\u001b[0;34m\u001b[0m\u001b[0m\n",
      "\u001b[0;32m/opt/anaconda3/lib/python3.7/site-packages/pandas/core/indexing.py\u001b[0m in \u001b[0;36m_get_listlike_indexer\u001b[0;34m(self, key, axis, raise_missing)\u001b[0m\n\u001b[1;32m   1090\u001b[0m \u001b[0;34m\u001b[0m\u001b[0m\n\u001b[1;32m   1091\u001b[0m         self._validate_read_indexer(\n\u001b[0;32m-> 1092\u001b[0;31m             \u001b[0mkeyarr\u001b[0m\u001b[0;34m,\u001b[0m \u001b[0mindexer\u001b[0m\u001b[0;34m,\u001b[0m \u001b[0mo\u001b[0m\u001b[0;34m.\u001b[0m\u001b[0m_get_axis_number\u001b[0m\u001b[0;34m(\u001b[0m\u001b[0maxis\u001b[0m\u001b[0;34m)\u001b[0m\u001b[0;34m,\u001b[0m \u001b[0mraise_missing\u001b[0m\u001b[0;34m=\u001b[0m\u001b[0mraise_missing\u001b[0m\u001b[0;34m\u001b[0m\u001b[0;34m\u001b[0m\u001b[0m\n\u001b[0m\u001b[1;32m   1093\u001b[0m         )\n\u001b[1;32m   1094\u001b[0m         \u001b[0;32mreturn\u001b[0m \u001b[0mkeyarr\u001b[0m\u001b[0;34m,\u001b[0m \u001b[0mindexer\u001b[0m\u001b[0;34m\u001b[0m\u001b[0;34m\u001b[0m\u001b[0m\n",
      "\u001b[0;32m/opt/anaconda3/lib/python3.7/site-packages/pandas/core/indexing.py\u001b[0m in \u001b[0;36m_validate_read_indexer\u001b[0;34m(self, key, indexer, axis, raise_missing)\u001b[0m\n\u001b[1;32m   1183\u001b[0m             \u001b[0;32mif\u001b[0m \u001b[0;32mnot\u001b[0m \u001b[0;34m(\u001b[0m\u001b[0mself\u001b[0m\u001b[0;34m.\u001b[0m\u001b[0mname\u001b[0m \u001b[0;34m==\u001b[0m \u001b[0;34m\"loc\"\u001b[0m \u001b[0;32mand\u001b[0m \u001b[0;32mnot\u001b[0m \u001b[0mraise_missing\u001b[0m\u001b[0;34m)\u001b[0m\u001b[0;34m:\u001b[0m\u001b[0;34m\u001b[0m\u001b[0;34m\u001b[0m\u001b[0m\n\u001b[1;32m   1184\u001b[0m                 \u001b[0mnot_found\u001b[0m \u001b[0;34m=\u001b[0m \u001b[0mlist\u001b[0m\u001b[0;34m(\u001b[0m\u001b[0mset\u001b[0m\u001b[0;34m(\u001b[0m\u001b[0mkey\u001b[0m\u001b[0;34m)\u001b[0m \u001b[0;34m-\u001b[0m \u001b[0mset\u001b[0m\u001b[0;34m(\u001b[0m\u001b[0max\u001b[0m\u001b[0;34m)\u001b[0m\u001b[0;34m)\u001b[0m\u001b[0;34m\u001b[0m\u001b[0;34m\u001b[0m\u001b[0m\n\u001b[0;32m-> 1185\u001b[0;31m                 \u001b[0;32mraise\u001b[0m \u001b[0mKeyError\u001b[0m\u001b[0;34m(\u001b[0m\u001b[0;34m\"{} not in index\"\u001b[0m\u001b[0;34m.\u001b[0m\u001b[0mformat\u001b[0m\u001b[0;34m(\u001b[0m\u001b[0mnot_found\u001b[0m\u001b[0;34m)\u001b[0m\u001b[0;34m)\u001b[0m\u001b[0;34m\u001b[0m\u001b[0;34m\u001b[0m\u001b[0m\n\u001b[0m\u001b[1;32m   1186\u001b[0m \u001b[0;34m\u001b[0m\u001b[0m\n\u001b[1;32m   1187\u001b[0m             \u001b[0;31m# we skip the warning on Categorical/Interval\u001b[0m\u001b[0;34m\u001b[0m\u001b[0;34m\u001b[0m\u001b[0;34m\u001b[0m\u001b[0m\n",
      "\u001b[0;31mKeyError\u001b[0m: \"['Purchasing Power'] not in index\""
     ]
    }
   ],
   "source": [
    "X = merged_df[features]"
   ]
  },
  {
   "cell_type": "code",
   "execution_count": null,
   "metadata": {},
   "outputs": [],
   "source": [
    "X.describe()"
   ]
  },
  {
   "cell_type": "code",
   "execution_count": null,
   "metadata": {},
   "outputs": [],
   "source": [
    "#instantiating model specified with random_state = 1 to ensure same results each run\n",
    "df_model = DecisionTreeRegressor(random_state=1)\n"
   ]
  },
  {
   "cell_type": "code",
   "execution_count": null,
   "metadata": {},
   "outputs": [],
   "source": [
    "#Fit model\n",
    "df_model.fit(X,y)"
   ]
  },
  {
   "cell_type": "code",
   "execution_count": null,
   "metadata": {},
   "outputs": [],
   "source": [
    "print(X.head())"
   ]
  },
  {
   "cell_type": "code",
   "execution_count": null,
   "metadata": {},
   "outputs": [],
   "source": [
    "print(\"Predictions are\", df_model.predict(X.head()))"
   ]
  },
  {
   "cell_type": "code",
   "execution_count": null,
   "metadata": {},
   "outputs": [],
   "source": [
    "merged_df.loc[merged_df['City_Codes'] == 240]"
   ]
  },
  {
   "cell_type": "code",
   "execution_count": null,
   "metadata": {},
   "outputs": [],
   "source": [
    "#validating prediction print MAE \n",
    "predicted_city = df_model.predict(X)\n",
    "mean_absolute_error(y, predicted_city)"
   ]
  },
  {
   "cell_type": "code",
   "execution_count": null,
   "metadata": {},
   "outputs": [],
   "source": [
    "train_X, val_X, train_y, val_y = train_test_split(X,y,random_state=0)\n",
    "#define model\n",
    "df_model = DecisionTreeRegressor()\n",
    "#fit model\n",
    "df_model.fit(train_X,train_y)\n",
    "\n",
    "#retrieve predicted city on validated data\n",
    "val_predictions = df_model.predict(val_X)\n",
    "print(mean_absolute_error(val_y, val_predictions))"
   ]
  },
  {
   "cell_type": "code",
   "execution_count": null,
   "metadata": {},
   "outputs": [],
   "source": [
    "#predicted city is about 90 off "
   ]
  },
  {
   "cell_type": "code",
   "execution_count": null,
   "metadata": {},
   "outputs": [],
   "source": [
    "forest_model = RandomForestRegressor(random_state=1)\n",
    "forest_model.fit(train_X, train_y)\n",
    "df_prediction = forest_model.predict(val_X)\n",
    "print(mean_absolute_error(val_y, df_prediction))"
   ]
  },
  {
   "cell_type": "code",
   "execution_count": null,
   "metadata": {},
   "outputs": [],
   "source": [
    "numpy.round(df_prediction)"
   ]
  },
  {
   "cell_type": "code",
   "execution_count": null,
   "metadata": {},
   "outputs": [],
   "source": [
    "merged_df.loc[merged_df['City_Codes'] == 126]"
   ]
  },
  {
   "cell_type": "code",
   "execution_count": null,
   "metadata": {},
   "outputs": [],
   "source": []
  }
 ],
 "metadata": {
  "kernelspec": {
   "display_name": "Python 3",
   "language": "python",
   "name": "python3"
  },
  "language_info": {
   "codemirror_mode": {
    "name": "ipython",
    "version": 3
   },
   "file_extension": ".py",
   "mimetype": "text/x-python",
   "name": "python",
   "nbconvert_exporter": "python",
   "pygments_lexer": "ipython3",
   "version": "3.7.4"
  }
 },
 "nbformat": 4,
 "nbformat_minor": 2
}
